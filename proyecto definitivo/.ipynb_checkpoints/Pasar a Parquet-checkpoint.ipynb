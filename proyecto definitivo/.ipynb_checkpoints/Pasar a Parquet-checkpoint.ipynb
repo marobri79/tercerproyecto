{
 "cells": [
  {
   "cell_type": "code",
   "execution_count": 21,
   "id": "2617eb4c",
   "metadata": {},
   "outputs": [],
   "source": [
    "import joblib\n",
    "import pandas as pd\n",
    "import pyarrow.parquet as pq\n",
    "\n",
    "# Supongamos que tienes un modelo de scikit-learn llamado \"modelo\"\n",
    "modelo = ...\n",
    "\n",
    "# Guarda el modelo usando joblib\n",
    "joblib.dump(modelo, 'modelo.pkl')\n",
    "\n",
    "# Crea un DataFrame de pandas para almacenar el modelo\n",
    "df = pd.DataFrame({'modelo': ['modelo.pkl']})\n",
    "\n",
    "# Guarda el DataFrame en formato Parquet\n",
    "pq.write_table(pa.Table.from_pandas(df), 'modelo.parquet')\n",
    "\n"
   ]
  },
  {
   "cell_type": "code",
   "execution_count": null,
   "id": "4e1fc6cd",
   "metadata": {},
   "outputs": [],
   "source": []
  }
 ],
 "metadata": {
  "kernelspec": {
   "display_name": "Python 3 (ipykernel)",
   "language": "python",
   "name": "python3"
  },
  "language_info": {
   "codemirror_mode": {
    "name": "ipython",
    "version": 3
   },
   "file_extension": ".py",
   "mimetype": "text/x-python",
   "name": "python",
   "nbconvert_exporter": "python",
   "pygments_lexer": "ipython3",
   "version": "3.10.9"
  }
 },
 "nbformat": 4,
 "nbformat_minor": 5
}
