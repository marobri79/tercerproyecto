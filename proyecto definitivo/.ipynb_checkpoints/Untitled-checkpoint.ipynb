{
 "cells": [
  {
   "cell_type": "code",
   "execution_count": 4,
   "id": "6a5f78db",
   "metadata": {},
   "outputs": [],
   "source": [
    "import numpy as np\n",
    "import pandas as pd\n",
    "import pickle\n",
    "\n",
    "from sklearn.model_selection import train_test_split\n",
    "from sklearn.linear_model import LinearRegression\n",
    "from sklearn.preprocessing import MinMaxScaler\n",
    "from sklearn.preprocessing import LabelEncoder\n"
   ]
  },
  {
   "cell_type": "code",
   "execution_count": 16,
   "id": "ff1c68e4",
   "metadata": {},
   "outputs": [],
   "source": [
    "df_final=pd.read_csv(\"final.csv\")"
   ]
  },
  {
   "cell_type": "code",
   "execution_count": 17,
   "id": "ef30b586",
   "metadata": {
    "scrolled": true
   },
   "outputs": [
    {
     "data": {
      "text/html": [
       "<div>\n",
       "<style scoped>\n",
       "    .dataframe tbody tr th:only-of-type {\n",
       "        vertical-align: middle;\n",
       "    }\n",
       "\n",
       "    .dataframe tbody tr th {\n",
       "        vertical-align: top;\n",
       "    }\n",
       "\n",
       "    .dataframe thead th {\n",
       "        text-align: right;\n",
       "    }\n",
       "</style>\n",
       "<table border=\"1\" class=\"dataframe\">\n",
       "  <thead>\n",
       "    <tr style=\"text-align: right;\">\n",
       "      <th></th>\n",
       "      <th>Marca</th>\n",
       "      <th>Modelo</th>\n",
       "      <th>Combustible</th>\n",
       "      <th>Provincia</th>\n",
       "      <th>Cv</th>\n",
       "      <th>Año</th>\n",
       "      <th>Kms</th>\n",
       "      <th>Precio</th>\n",
       "    </tr>\n",
       "  </thead>\n",
       "  <tbody>\n",
       "    <tr>\n",
       "      <th>0</th>\n",
       "      <td>48</td>\n",
       "      <td>11332</td>\n",
       "      <td>0</td>\n",
       "      <td>7</td>\n",
       "      <td>75.0</td>\n",
       "      <td>2023</td>\n",
       "      <td>144.000</td>\n",
       "      <td>6.999</td>\n",
       "    </tr>\n",
       "    <tr>\n",
       "      <th>1</th>\n",
       "      <td>48</td>\n",
       "      <td>11316</td>\n",
       "      <td>0</td>\n",
       "      <td>7</td>\n",
       "      <td>80.0</td>\n",
       "      <td>2023</td>\n",
       "      <td>144.000</td>\n",
       "      <td>7.299</td>\n",
       "    </tr>\n",
       "    <tr>\n",
       "      <th>2</th>\n",
       "      <td>29</td>\n",
       "      <td>4802</td>\n",
       "      <td>3</td>\n",
       "      <td>52</td>\n",
       "      <td>8.0</td>\n",
       "      <td>2023</td>\n",
       "      <td>100.000</td>\n",
       "      <td>8.990</td>\n",
       "    </tr>\n",
       "    <tr>\n",
       "      <th>3</th>\n",
       "      <td>38</td>\n",
       "      <td>20043</td>\n",
       "      <td>8</td>\n",
       "      <td>49</td>\n",
       "      <td>75.0</td>\n",
       "      <td>2022</td>\n",
       "      <td>884.000</td>\n",
       "      <td>9.990</td>\n",
       "    </tr>\n",
       "    <tr>\n",
       "      <th>4</th>\n",
       "      <td>109</td>\n",
       "      <td>532</td>\n",
       "      <td>8</td>\n",
       "      <td>32</td>\n",
       "      <td>110.0</td>\n",
       "      <td>2022</td>\n",
       "      <td>120.000</td>\n",
       "      <td>10.499</td>\n",
       "    </tr>\n",
       "    <tr>\n",
       "      <th>...</th>\n",
       "      <td>...</td>\n",
       "      <td>...</td>\n",
       "      <td>...</td>\n",
       "      <td>...</td>\n",
       "      <td>...</td>\n",
       "      <td>...</td>\n",
       "      <td>...</td>\n",
       "      <td>...</td>\n",
       "    </tr>\n",
       "    <tr>\n",
       "      <th>239960</th>\n",
       "      <td>54</td>\n",
       "      <td>14081</td>\n",
       "      <td>0</td>\n",
       "      <td>26</td>\n",
       "      <td>136.0</td>\n",
       "      <td>2019</td>\n",
       "      <td>101.511</td>\n",
       "      <td>20.990</td>\n",
       "    </tr>\n",
       "    <tr>\n",
       "      <th>239961</th>\n",
       "      <td>119</td>\n",
       "      <td>4897</td>\n",
       "      <td>8</td>\n",
       "      <td>26</td>\n",
       "      <td>110.0</td>\n",
       "      <td>2021</td>\n",
       "      <td>61.664</td>\n",
       "      <td>19.540</td>\n",
       "    </tr>\n",
       "    <tr>\n",
       "      <th>239962</th>\n",
       "      <td>4</td>\n",
       "      <td>17428</td>\n",
       "      <td>0</td>\n",
       "      <td>34</td>\n",
       "      <td>116.0</td>\n",
       "      <td>2022</td>\n",
       "      <td>26.270</td>\n",
       "      <td>31.000</td>\n",
       "    </tr>\n",
       "    <tr>\n",
       "      <th>239963</th>\n",
       "      <td>122</td>\n",
       "      <td>14093</td>\n",
       "      <td>8</td>\n",
       "      <td>32</td>\n",
       "      <td>149.0</td>\n",
       "      <td>2021</td>\n",
       "      <td>25.972</td>\n",
       "      <td>25.500</td>\n",
       "    </tr>\n",
       "    <tr>\n",
       "      <th>239964</th>\n",
       "      <td>4</td>\n",
       "      <td>4156</td>\n",
       "      <td>8</td>\n",
       "      <td>35</td>\n",
       "      <td>450.0</td>\n",
       "      <td>2018</td>\n",
       "      <td>89.000</td>\n",
       "      <td>59.900</td>\n",
       "    </tr>\n",
       "  </tbody>\n",
       "</table>\n",
       "<p>239965 rows × 8 columns</p>\n",
       "</div>"
      ],
      "text/plain": [
       "        Marca  Modelo  Combustible  Provincia     Cv   Año      Kms  Precio\n",
       "0          48   11332            0          7   75.0  2023  144.000   6.999\n",
       "1          48   11316            0          7   80.0  2023  144.000   7.299\n",
       "2          29    4802            3         52    8.0  2023  100.000   8.990\n",
       "3          38   20043            8         49   75.0  2022  884.000   9.990\n",
       "4         109     532            8         32  110.0  2022  120.000  10.499\n",
       "...       ...     ...          ...        ...    ...   ...      ...     ...\n",
       "239960     54   14081            0         26  136.0  2019  101.511  20.990\n",
       "239961    119    4897            8         26  110.0  2021   61.664  19.540\n",
       "239962      4   17428            0         34  116.0  2022   26.270  31.000\n",
       "239963    122   14093            8         32  149.0  2021   25.972  25.500\n",
       "239964      4    4156            8         35  450.0  2018   89.000  59.900\n",
       "\n",
       "[239965 rows x 8 columns]"
      ]
     },
     "execution_count": 17,
     "metadata": {},
     "output_type": "execute_result"
    }
   ],
   "source": [
    "df_final"
   ]
  },
  {
   "cell_type": "code",
   "execution_count": 18,
   "id": "47c9bf35",
   "metadata": {},
   "outputs": [
    {
     "data": {
      "text/plain": [
       "Marca          0\n",
       "Modelo         0\n",
       "Combustible    0\n",
       "Provincia      0\n",
       "Cv             0\n",
       "Año            0\n",
       "Kms            0\n",
       "Precio         0\n",
       "dtype: int64"
      ]
     },
     "execution_count": 18,
     "metadata": {},
     "output_type": "execute_result"
    }
   ],
   "source": [
    "df_final.isna().sum()"
   ]
  },
  {
   "cell_type": "code",
   "execution_count": 19,
   "id": "0260a20e",
   "metadata": {},
   "outputs": [
    {
     "data": {
      "text/plain": [
       "Index(['Marca', 'Modelo', 'Combustible', 'Provincia', 'Cv', 'Año', 'Kms',\n",
       "       'Precio'],\n",
       "      dtype='object')"
      ]
     },
     "execution_count": 19,
     "metadata": {},
     "output_type": "execute_result"
    }
   ],
   "source": [
    "df_final.columns"
   ]
  },
  {
   "cell_type": "code",
   "execution_count": 22,
   "id": "3e6ccdb3",
   "metadata": {},
   "outputs": [
    {
     "name": "stdout",
     "output_type": "stream",
     "text": [
      "<class 'pandas.core.frame.DataFrame'>\n",
      "RangeIndex: 239965 entries, 0 to 239964\n",
      "Data columns (total 8 columns):\n",
      " #   Column       Non-Null Count   Dtype  \n",
      "---  ------       --------------   -----  \n",
      " 0   Marca        239965 non-null  int64  \n",
      " 1   Modelo       239965 non-null  int64  \n",
      " 2   Combustible  239965 non-null  int64  \n",
      " 3   Provincia    239965 non-null  int64  \n",
      " 4   Cv           239965 non-null  float64\n",
      " 5   Año          239965 non-null  int64  \n",
      " 6   Kms          239965 non-null  float64\n",
      " 7   Precio       239965 non-null  float64\n",
      "dtypes: float64(3), int64(5)\n",
      "memory usage: 14.6 MB\n"
     ]
    }
   ],
   "source": [
    "df_final.info()\n",
    "#tener encuenta quue las columnas categóricas aquí ya están modificadas\n"
   ]
  },
  {
   "cell_type": "code",
   "execution_count": null,
   "id": "585c6588",
   "metadata": {},
   "outputs": [],
   "source": [
    "import matpoltlib.pyplot as plt\n",
    "import seaborn as sns"
   ]
  },
  {
   "cell_type": "code",
   "execution_count": null,
   "id": "bfdf11d9",
   "metadata": {},
   "outputs": [],
   "source": [
    "modelos1 = [#LinearRegression(), \n",
    "           #KNeighborsRegressor(), \n",
    "           #RadiusNeighborsRegressor(), \n",
    "           #DecisionTreeRegressor(),\n",
    "           RandomForestRegressor(), \n",
    "           #SVR(), \n",
    "           #AdaBoostRegressor(), \n",
    "           #GradientBoostingRegressor()\n",
    "          ]"
   ]
  },
  {
   "cell_type": "code",
   "execution_count": null,
   "id": "05e16c3c",
   "metadata": {},
   "outputs": [],
   "source": [
    "%%time\n",
    "X = train.drop([\"Precio\"], axis = 1)\n",
    "y = np.array(train[\"Precio\"]).reshape(-1 , 1)\n",
    "\n",
    "x_scaler = MinMaxScaler()\n",
    "X = x_scaler.fit_transform(X)\n",
    "\n",
    "y_scaler = MinMaxScaler()\n",
    "y = y_scaler.fit_transform(y)\n",
    "\n",
    "X_train, X_test, y_train, y_test = train_test_split(X, y, test_size = 0.2, random_state = 42)\n",
    "\n",
    "datos_modelos1 = list()\n",
    "\n",
    "for model in modelos1:\n",
    "    \n",
    "    model.fit(X_train, y_train)\n",
    "    yhat = model.predict(X_test)\n",
    "    \n",
    "    y_test_inv = y_scaler.inverse_transform(y_test.reshape(-1, 1))\n",
    "    yhat_inv = y_scaler.inverse_transform(yhat.reshape(-1, 1))\n",
    "    \n",
    "    # Metricas\n",
    "    mae = mean_absolute_error(y_test_inv, yhat_inv)\n",
    "    mse = mean_squared_error(y_test_inv, yhat_inv)\n",
    "    r2 = r2_score(y_test_inv, yhat_inv)\n",
    "    \n",
    "    datos_modelos1.append([str(model), model, mae, mse, r2])\n",
    "    \n",
    "df_modelo1 = pd.DataFrame(data = datos_modelos1, columns = [\"name\", \"model\", \"mae\", \"mse\", \"r2\"])\n",
    "\n",
    "df_modelo1.sort_values(\"r2\", ascending = False)"
   ]
  },
  {
   "cell_type": "code",
   "execution_count": null,
   "id": "273d6235",
   "metadata": {},
   "outputs": [],
   "source": [
    "https://danielwtummler-co2-project-app-c2z48t.streamlit.app/"
   ]
  },
  {
   "cell_type": "code",
   "execution_count": null,
   "id": "613ca1b7",
   "metadata": {},
   "outputs": [],
   "source": []
  },
  {
   "cell_type": "code",
   "execution_count": null,
   "id": "d14e95ee",
   "metadata": {},
   "outputs": [],
   "source": []
  },
  {
   "cell_type": "code",
   "execution_count": null,
   "id": "1c2cd59b",
   "metadata": {},
   "outputs": [],
   "source": []
  }
 ],
 "metadata": {
  "kernelspec": {
   "display_name": "Python 3 (ipykernel)",
   "language": "python",
   "name": "python3"
  },
  "language_info": {
   "codemirror_mode": {
    "name": "ipython",
    "version": 3
   },
   "file_extension": ".py",
   "mimetype": "text/x-python",
   "name": "python",
   "nbconvert_exporter": "python",
   "pygments_lexer": "ipython3",
   "version": "3.10.9"
  }
 },
 "nbformat": 4,
 "nbformat_minor": 5
}
