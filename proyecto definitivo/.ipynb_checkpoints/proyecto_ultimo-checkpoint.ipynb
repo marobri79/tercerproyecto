{
 "cells": [
  {
   "cell_type": "markdown",
   "id": "c5ca2485",
   "metadata": {},
   "source": [
    "# ANALISIS Y PREDICCIÓN DEL PRECIO DE COCHES DE SEGUNDA MANO EN ESPAÑA"
   ]
  },
  {
   "cell_type": "code",
   "execution_count": 1,
   "id": "4d04f2ce",
   "metadata": {},
   "outputs": [],
   "source": [
    "import pandas as pd\n",
    "import numpy as np\n",
    "import requests\n",
    "from bs4 import BeautifulSoup\n",
    "import webbrowser\n",
    "from selenium import webdriver\n",
    "import requests \n",
    "\n",
    "from selenium import webdriver\n",
    "from selenium.webdriver.common.by import By\n",
    "import csv\n",
    "from time import sleep\n",
    "\n",
    "# Librerias de tratamiento de datos y visualizaciones\n",
    "import pandas as pd\n",
    "import numpy as np\n",
    "import matplotlib.pyplot as plt\n",
    "import seaborn as sns\n",
    "from matplotlib import style\n",
    "import matplotlib.ticker as ticker\n",
    "from tabulate import tabulate\n",
    "import warnings\n",
    "import plotly.express as px\n",
    "warnings.filterwarnings(\"ignore\")\n",
    "\n",
    "# Librerías de funciones\n",
    "from sklearn.preprocessing import StandardScaler, LabelEncoder, OrdinalEncoder\n",
    "from imblearn.over_sampling import RandomOverSampler\n",
    "from imblearn.under_sampling import RandomUnderSampler\n",
    "from sklearn.model_selection import train_test_split\n",
    "\n",
    "# Gráficos\n",
    "import matplotlib.pyplot as plt\n",
    "from matplotlib import style\n",
    "import matplotlib.ticker as ticker\n",
    "import seaborn as sns\n",
    "\n",
    "# Varios\n",
    "import multiprocessing\n",
    "import random\n",
    "from itertools import product\n",
    "from sklearn.preprocessing import MinMaxScaler\n",
    "import pickle\n",
    "import joblib\n",
    "import mplcursors\n",
    "\n",
    "# Validacion\n",
    "from sklearn.model_selection import LeaveOneOut\n",
    "from sklearn.model_selection import KFold\n",
    "from sklearn.model_selection import GridSearchCV\n",
    "\n",
    "# Metricas para regresiones\n",
    "from sklearn.metrics import mean_absolute_error\n",
    "from sklearn.metrics import mean_squared_error\n",
    "from sklearn.metrics import r2_score\n",
    "\n",
    "# Regresores\n",
    "from sklearn.linear_model import LinearRegression\n",
    "from sklearn.neighbors import KNeighborsRegressor\n",
    "from sklearn.neighbors import RadiusNeighborsRegressor\n",
    "from sklearn.tree import DecisionTreeRegressor\n",
    "from sklearn.ensemble import RandomForestRegressor\n",
    "from sklearn.svm import SVR\n",
    "from sklearn.ensemble import AdaBoostRegressor\n",
    "from sklearn.ensemble import GradientBoostingRegressor\n",
    "\n",
    "# Clustering\n",
    "from sklearn.cluster import KMeans\n",
    "from sklearn.cluster import DBSCAN\n",
    "from sklearn.metrics import silhouette_score"
   ]
  },
  {
   "cell_type": "code",
   "execution_count": 2,
   "id": "4da170e6",
   "metadata": {},
   "outputs": [
    {
     "data": {
      "text/html": [
       "<div>\n",
       "<style scoped>\n",
       "    .dataframe tbody tr th:only-of-type {\n",
       "        vertical-align: middle;\n",
       "    }\n",
       "\n",
       "    .dataframe tbody tr th {\n",
       "        vertical-align: top;\n",
       "    }\n",
       "\n",
       "    .dataframe thead th {\n",
       "        text-align: right;\n",
       "    }\n",
       "</style>\n",
       "<table border=\"1\" class=\"dataframe\">\n",
       "  <thead>\n",
       "    <tr style=\"text-align: right;\">\n",
       "      <th></th>\n",
       "      <th>Combustible</th>\n",
       "      <th>Año</th>\n",
       "      <th>Kms</th>\n",
       "      <th>Precio</th>\n",
       "      <th>Ciudad</th>\n",
       "      <th>Modelo</th>\n",
       "      <th>Cv</th>\n",
       "      <th>Marca</th>\n",
       "      <th>Provincia</th>\n",
       "    </tr>\n",
       "  </thead>\n",
       "  <tbody>\n",
       "    <tr>\n",
       "      <th>0</th>\n",
       "      <td>Diésel</td>\n",
       "      <td>2023</td>\n",
       "      <td>144.000</td>\n",
       "      <td>6.999</td>\n",
       "      <td>SABADELL</td>\n",
       "      <td>Fiorino SX Cargo</td>\n",
       "      <td>75</td>\n",
       "      <td>Fiat</td>\n",
       "      <td>Barcelona</td>\n",
       "    </tr>\n",
       "    <tr>\n",
       "      <th>1</th>\n",
       "      <td>Diésel</td>\n",
       "      <td>2023</td>\n",
       "      <td>144.000</td>\n",
       "      <td>7.299</td>\n",
       "      <td>SABADELL</td>\n",
       "      <td>Fiorino Comercial FIAT</td>\n",
       "      <td>80</td>\n",
       "      <td>Fiat</td>\n",
       "      <td>Barcelona</td>\n",
       "    </tr>\n",
       "    <tr>\n",
       "      <th>2</th>\n",
       "      <td>Eléctrico</td>\n",
       "      <td>2023</td>\n",
       "      <td>0</td>\n",
       "      <td>8.490</td>\n",
       "      <td>CORDOBA</td>\n",
       "      <td>Ami ELECTRICO POP</td>\n",
       "      <td>-</td>\n",
       "      <td>Citroen</td>\n",
       "      <td>Córdoba</td>\n",
       "    </tr>\n",
       "    <tr>\n",
       "      <th>3</th>\n",
       "      <td>Eléctrico</td>\n",
       "      <td>2023</td>\n",
       "      <td>100</td>\n",
       "      <td>8.990</td>\n",
       "      <td>ZAMORA</td>\n",
       "      <td>Ami BEV MY POP 8 2P</td>\n",
       "      <td>8</td>\n",
       "      <td>Citroen</td>\n",
       "      <td>Zamora</td>\n",
       "    </tr>\n",
       "    <tr>\n",
       "      <th>4</th>\n",
       "      <td>Gasolina</td>\n",
       "      <td>2022</td>\n",
       "      <td>884</td>\n",
       "      <td>9.990</td>\n",
       "      <td>QUART DE POBLET</td>\n",
       "      <td>Sandero 1.0 Base 55kW</td>\n",
       "      <td>75</td>\n",
       "      <td>Dacia</td>\n",
       "      <td>Valencia</td>\n",
       "    </tr>\n",
       "    <tr>\n",
       "      <th>...</th>\n",
       "      <td>...</td>\n",
       "      <td>...</td>\n",
       "      <td>...</td>\n",
       "      <td>...</td>\n",
       "      <td>...</td>\n",
       "      <td>...</td>\n",
       "      <td>...</td>\n",
       "      <td>...</td>\n",
       "      <td>...</td>\n",
       "    </tr>\n",
       "    <tr>\n",
       "      <th>235425</th>\n",
       "      <td>Gasolina</td>\n",
       "      <td>1980</td>\n",
       "      <td>10</td>\n",
       "      <td>39.700</td>\n",
       "      <td>MADRID</td>\n",
       "      <td>300 TD Turbodiesel (123)</td>\n",
       "      <td>-</td>\n",
       "      <td>Mercedes-Benz</td>\n",
       "      <td>Madrid</td>\n",
       "    </tr>\n",
       "    <tr>\n",
       "      <th>235426</th>\n",
       "      <td>Gasolina</td>\n",
       "      <td>1979</td>\n",
       "      <td>157.000</td>\n",
       "      <td>39.900</td>\n",
       "      <td>BARCELONA</td>\n",
       "      <td>928 Deportivo 326cv Manual de 5 Puertas</td>\n",
       "      <td>326</td>\n",
       "      <td>Porsche</td>\n",
       "      <td>Barcelona</td>\n",
       "    </tr>\n",
       "    <tr>\n",
       "      <th>235427</th>\n",
       "      <td>Gasolina</td>\n",
       "      <td>1979</td>\n",
       "      <td>157.000</td>\n",
       "      <td>39.900</td>\n",
       "      <td>BARCELONA</td>\n",
       "      <td>928 Deportivo 326cv Manual de 5 Puertas</td>\n",
       "      <td>326</td>\n",
       "      <td>Porsche</td>\n",
       "      <td>Barcelona</td>\n",
       "    </tr>\n",
       "    <tr>\n",
       "      <th>235428</th>\n",
       "      <td>Gasolina</td>\n",
       "      <td>1980</td>\n",
       "      <td>74.680</td>\n",
       "      <td>44.900</td>\n",
       "      <td>MARBELLA</td>\n",
       "      <td>928</td>\n",
       "      <td>-</td>\n",
       "      <td>Porsche</td>\n",
       "      <td>Málaga</td>\n",
       "    </tr>\n",
       "    <tr>\n",
       "      <th>235429</th>\n",
       "      <td>Gasolina</td>\n",
       "      <td>1979</td>\n",
       "      <td>4.500</td>\n",
       "      <td>45.900</td>\n",
       "      <td>MADRID</td>\n",
       "      <td>Firebird Trans-Am</td>\n",
       "      <td>-</td>\n",
       "      <td>Pontiac</td>\n",
       "      <td>Madrid</td>\n",
       "    </tr>\n",
       "  </tbody>\n",
       "</table>\n",
       "<p>235430 rows × 9 columns</p>\n",
       "</div>"
      ],
      "text/plain": [
       "       Combustible   Año      Kms  Precio           Ciudad  \\\n",
       "0           Diésel  2023  144.000   6.999         SABADELL   \n",
       "1           Diésel  2023  144.000   7.299         SABADELL   \n",
       "2        Eléctrico  2023        0   8.490          CORDOBA   \n",
       "3        Eléctrico  2023      100   8.990           ZAMORA   \n",
       "4         Gasolina  2022      884   9.990  QUART DE POBLET   \n",
       "...            ...   ...      ...     ...              ...   \n",
       "235425    Gasolina  1980       10  39.700           MADRID   \n",
       "235426    Gasolina  1979  157.000  39.900        BARCELONA   \n",
       "235427    Gasolina  1979  157.000  39.900        BARCELONA   \n",
       "235428    Gasolina  1980   74.680  44.900         MARBELLA   \n",
       "235429    Gasolina  1979    4.500  45.900           MADRID   \n",
       "\n",
       "                                         Modelo   Cv          Marca  Provincia  \n",
       "0                              Fiorino SX Cargo   75           Fiat  Barcelona  \n",
       "1                        Fiorino Comercial FIAT   80           Fiat  Barcelona  \n",
       "2                             Ami ELECTRICO POP    -        Citroen    Córdoba  \n",
       "3                           Ami BEV MY POP 8 2P    8        Citroen     Zamora  \n",
       "4                         Sandero 1.0 Base 55kW   75          Dacia   Valencia  \n",
       "...                                         ...  ...            ...        ...  \n",
       "235425                 300 TD Turbodiesel (123)    -  Mercedes-Benz     Madrid  \n",
       "235426  928 Deportivo 326cv Manual de 5 Puertas  326        Porsche  Barcelona  \n",
       "235427  928 Deportivo 326cv Manual de 5 Puertas  326        Porsche  Barcelona  \n",
       "235428                                     928     -        Porsche     Málaga  \n",
       "235429                        Firebird Trans-Am    -        Pontiac     Madrid  \n",
       "\n",
       "[235430 rows x 9 columns]"
      ]
     },
     "execution_count": 2,
     "metadata": {},
     "output_type": "execute_result"
    }
   ],
   "source": [
    "#Lectura desde un archivo csv con la extraccion de la primer pagina https://www.autoscout24.es\n",
    "#y asignacion a la variable train\n",
    "nombre_archivo = 'definitivo.csv'\n",
    "train = pd.read_csv(nombre_archivo)\n",
    "train"
   ]
  },
  {
   "cell_type": "code",
   "execution_count": 3,
   "id": "d8230c34",
   "metadata": {},
   "outputs": [
    {
     "data": {
      "text/plain": [
       "array(['SABADELL', 'CORDOBA', 'ZAMORA', 'QUART DE POBLET', 'MADRID',\n",
       "       'ALGETE', 'LEGANES', 'LAS ROZAS', 'HOSPITALET DE LLOBREGAT',\n",
       "       'SEVILLA', 'MALAGA', 'LEON', 'BILBAO', 'PAMPLONA', 'GRANADA',\n",
       "       'ALICANTE', 'MURCIA', 'VALLADOLID', 'BURGOS', 'CIUDAD REAL',\n",
       "       'TOLEDO', 'SALAMANCA', 'ALBACETE', 'SANTA FE', 'PATERNA',\n",
       "       'TARRAGONA', 'BARCELONA', 'ALZIRA', 'XATIVA',\n",
       "       'VILAFRANCA DEL PENEDES', 'OVIEDO', 'ALCALA DE GUADAIRA',\n",
       "       'OLIAS DEL REY', 'CASTELLON', 'HUELVA', 'EL PRAT DE LLOBREGAT',\n",
       "       'AVILA', 'SANTIAGO DE COMPOSTELA', 'VIGO', 'ZARAGOZA', 'BADAJOZ',\n",
       "       'FUENLABRADA', 'SAN FERNANDO DE HENARES', 'SANTANDER', 'VALENCIA',\n",
       "       'VITORIA', 'MERES', 'MALIANO', 'TORREMOLINOS', 'SADA', 'LUGO',\n",
       "       'PONTEVEDRA', 'MOSTOLES', 'VILLAGONZALO PEDERNALES', 'LLEIDA',\n",
       "       'TERRASSA', 'MATARO', 'FORNELLS DE LA SELVA', 'ALCORCON', 'JAEN',\n",
       "       'BLANES', 'SEDAVI', 'MANISES', 'MERIDA', 'A CORUÑA', 'GUADALAJARA',\n",
       "       'ALMERIA', 'VILLAVA', 'BARBERA DEL VALLES', 'CADIZ', 'CACERES',\n",
       "       'ALCOBENDAS', 'IGUALADA', 'SAN SEBASTIAN DE LOS REYES',\n",
       "       'GRANOLLERS', 'GIJON', 'CUENCA', 'PALMA DE MALLORCA',\n",
       "       'ALCALA DE HENARES', 'ARROYOMOLINOS', 'RIVAS', 'VENTURADA',\n",
       "       'LOGRONO', 'SANT BOI DE LLOBREGAT', 'PUEBLA DE SANCHO PEREZ',\n",
       "       'ORIHUELA', 'GANDIA', 'TORREJON DE ARDOZ', 'CAZALEGAS',\n",
       "       'BOADILLA DEL MONTE', 'OURENSE', 'SANT ADRIA DE BESOS', 'VIC',\n",
       "       'RINCON DE LA VICTORIA', 'ERANDIO', 'ALPEDRETE', 'COSLADA',\n",
       "       'CALONGE DE SEGARRA', 'PALMA', 'LAS PALMAS DE GRAN CANARIA',\n",
       "       'PINTO', 'SAN SEBASTIAN', 'ALAQUAS', 'JEREZ DE LA FRONTERA',\n",
       "       'FOIOS', 'SANT CUGAT DEL VALLES', 'MAJADAHONDA',\n",
       "       'VILLARES DE LA REINA', 'ARGANDA DEL REY',\n",
       "       'SANTA CRUZ DE TENERIFE', 'MANRESA', 'GALDAKANO',\n",
       "       'CERDANYOLA DEL VALLES', 'ZARATAN', 'TORREVIEJA',\n",
       "       'POZUELO DE ALARCON', 'CORNELLA DE LLOBREGAT', 'PARLA', 'HUESCA',\n",
       "       'ASTORGA', 'IRUN', 'MARBELLA', 'CARTAGENA', 'VILLAGONZALO', 'MOS',\n",
       "       'ALMENDRALEJO', 'LEIOA', 'MAIRENA DEL ALJARAFE', 'COLMENAR VIEJO',\n",
       "       'ELCHE', 'CALELLA', 'SORIA', 'PALENCIA', 'HUERCAL DE ALMERIA',\n",
       "       'CEUTA', 'MISLATA', 'UTRERA', 'REUS', 'GALDAKAO', 'AVILES',\n",
       "       'GETAFE', 'GIRONA', 'COLLADO VILLALBA', 'UBEDA', 'BENICARLO',\n",
       "       'ESTEPONA', 'BADALONA', 'SIERO', 'PENARANDA DE BRACAMONTE',\n",
       "       'MEJORADA DEL CAMPO', 'HUMANES DE MADRID', 'ALONSOTEGI', 'GELVES',\n",
       "       'TEO', 'MONTIJO', 'MONTMELO', 'VILLAVICIOSA DE ODON', 'ONTINYENT',\n",
       "       'MELIANA', 'VELILLA DE SAN ANTONIO', 'ZARATAMO', 'ALFAFAR',\n",
       "       'VILLANUEVA DE CORDOBA', 'MELIDE', 'LINARES', 'SUNBILLA',\n",
       "       'AMOREBIETA', 'MANLLEU', 'ROBLEDO DE CHAVELA'], dtype=object)"
      ]
     },
     "execution_count": 3,
     "metadata": {},
     "output_type": "execute_result"
    }
   ],
   "source": [
    "elementos_unicos = train['Ciudad'].unique()\n",
    "elementos_unicos"
   ]
  },
  {
   "cell_type": "code",
   "execution_count": 4,
   "id": "62c32345",
   "metadata": {},
   "outputs": [
    {
     "data": {
      "text/plain": [
       "MADRID                     14286\n",
       "PATERNA                    14027\n",
       "SEVILLA                     9729\n",
       "MALAGA                      9710\n",
       "BILBAO                      8562\n",
       "                           ...  \n",
       "BLANES                       105\n",
       "CERDANYOLA DEL VALLES        103\n",
       "PENARANDA DE BRACAMONTE      103\n",
       "MONTMELO                     102\n",
       "ONTINYENT                    101\n",
       "Name: Ciudad, Length: 169, dtype: int64"
      ]
     },
     "execution_count": 4,
     "metadata": {},
     "output_type": "execute_result"
    }
   ],
   "source": [
    "conteo_elementos_unicos = train['Ciudad'].value_counts()\n",
    "conteo_elementos_unicos"
   ]
  },
  {
   "cell_type": "code",
   "execution_count": 5,
   "id": "a331331d",
   "metadata": {},
   "outputs": [
    {
     "data": {
      "text/html": [
       "<div>\n",
       "<style scoped>\n",
       "    .dataframe tbody tr th:only-of-type {\n",
       "        vertical-align: middle;\n",
       "    }\n",
       "\n",
       "    .dataframe tbody tr th {\n",
       "        vertical-align: top;\n",
       "    }\n",
       "\n",
       "    .dataframe thead th {\n",
       "        text-align: right;\n",
       "    }\n",
       "</style>\n",
       "<table border=\"1\" class=\"dataframe\">\n",
       "  <thead>\n",
       "    <tr style=\"text-align: right;\">\n",
       "      <th></th>\n",
       "      <th>Marcas</th>\n",
       "      <th>Combustible</th>\n",
       "      <th>Año</th>\n",
       "      <th>Kms</th>\n",
       "      <th>Cv</th>\n",
       "      <th>Provincia</th>\n",
       "      <th>Precio</th>\n",
       "    </tr>\n",
       "  </thead>\n",
       "  <tbody>\n",
       "    <tr>\n",
       "      <th>0</th>\n",
       "      <td>CITROEN C3 Aircross BlueHDi S&amp;S Shine EAT6 120</td>\n",
       "      <td>Diésel</td>\n",
       "      <td>2020</td>\n",
       "      <td>12.908 km</td>\n",
       "      <td>120 cv</td>\n",
       "      <td>Guipúzcoa</td>\n",
       "      <td>23.400 €</td>\n",
       "    </tr>\n",
       "    <tr>\n",
       "      <th>1</th>\n",
       "      <td>MERCEDES-BENZ Clase A 250 e</td>\n",
       "      <td>Híbrido</td>\n",
       "      <td>2023</td>\n",
       "      <td>5.737 km</td>\n",
       "      <td>218 cv</td>\n",
       "      <td>Cádiz</td>\n",
       "      <td>46.900 €</td>\n",
       "    </tr>\n",
       "    <tr>\n",
       "      <th>2</th>\n",
       "      <td>MERCEDES-BENZ Clase A 200 d Progressive (EURO 6d)</td>\n",
       "      <td>Diésel</td>\n",
       "      <td>2021</td>\n",
       "      <td>34.248 km</td>\n",
       "      <td>150 cv</td>\n",
       "      <td>Valencia</td>\n",
       "      <td>35.000 €</td>\n",
       "    </tr>\n",
       "    <tr>\n",
       "      <th>3</th>\n",
       "      <td>SEAT Arona 1.0 TSI S&amp;S Style 110</td>\n",
       "      <td>Gasolina</td>\n",
       "      <td>2021</td>\n",
       "      <td>53.657 km</td>\n",
       "      <td>110 cv</td>\n",
       "      <td>La Coruña</td>\n",
       "      <td>20.980 €</td>\n",
       "    </tr>\n",
       "    <tr>\n",
       "      <th>4</th>\n",
       "      <td>CITROEN C3 1.5BlueHDi S&amp;S Feel Pack 100</td>\n",
       "      <td>Diésel</td>\n",
       "      <td>2020</td>\n",
       "      <td>23.971 km</td>\n",
       "      <td>100 cv</td>\n",
       "      <td>Guipúzcoa</td>\n",
       "      <td>16.900 €</td>\n",
       "    </tr>\n",
       "    <tr>\n",
       "      <th>...</th>\n",
       "      <td>...</td>\n",
       "      <td>...</td>\n",
       "      <td>...</td>\n",
       "      <td>...</td>\n",
       "      <td>...</td>\n",
       "      <td>...</td>\n",
       "      <td>...</td>\n",
       "    </tr>\n",
       "    <tr>\n",
       "      <th>9995</th>\n",
       "      <td>HYUNDAI Kona Creative 5p SUV 1.6 CRDi 136 DCT-7</td>\n",
       "      <td>Diésel</td>\n",
       "      <td>2019</td>\n",
       "      <td>101.511 km</td>\n",
       "      <td>136 cv</td>\n",
       "      <td>La Coruña</td>\n",
       "      <td>20.990 €</td>\n",
       "    </tr>\n",
       "    <tr>\n",
       "      <th>9996</th>\n",
       "      <td>SEAT Arona 1.0 TSI S&amp;S Style 110</td>\n",
       "      <td>Gasolina</td>\n",
       "      <td>2021</td>\n",
       "      <td>61.664 km</td>\n",
       "      <td>110 cv</td>\n",
       "      <td>La Coruña</td>\n",
       "      <td>19.540 €</td>\n",
       "    </tr>\n",
       "    <tr>\n",
       "      <th>9997</th>\n",
       "      <td>AUDI Q2 ADVANCED 30 TDI  85(116) KW(CV) 6 VEL.</td>\n",
       "      <td>Diésel</td>\n",
       "      <td>2022</td>\n",
       "      <td>26.270 km</td>\n",
       "      <td>116 cv</td>\n",
       "      <td>Murcia</td>\n",
       "      <td>31.000 €</td>\n",
       "    </tr>\n",
       "    <tr>\n",
       "      <th>9998</th>\n",
       "      <td>SSANGYONG Korando G15 GLP Limited 4x2 L.P.</td>\n",
       "      <td>Gasolina</td>\n",
       "      <td>2021</td>\n",
       "      <td>25.972 km</td>\n",
       "      <td>149 cv</td>\n",
       "      <td>Madrid</td>\n",
       "      <td>25.500 €</td>\n",
       "    </tr>\n",
       "    <tr>\n",
       "      <th>9999</th>\n",
       "      <td>AUDI A5 Deportivo  Automático de 2 Puertas</td>\n",
       "      <td>Gasolina</td>\n",
       "      <td>2018</td>\n",
       "      <td>89.000 km</td>\n",
       "      <td>450 cv</td>\n",
       "      <td>Málaga</td>\n",
       "      <td>59.900 €</td>\n",
       "    </tr>\n",
       "  </tbody>\n",
       "</table>\n",
       "<p>10000 rows × 7 columns</p>\n",
       "</div>"
      ],
      "text/plain": [
       "                                                 Marcas Combustible   Año  \\\n",
       "0        CITROEN C3 Aircross BlueHDi S&S Shine EAT6 120      Diésel  2020   \n",
       "1                           MERCEDES-BENZ Clase A 250 e     Híbrido  2023   \n",
       "2     MERCEDES-BENZ Clase A 200 d Progressive (EURO 6d)      Diésel  2021   \n",
       "3                      SEAT Arona 1.0 TSI S&S Style 110    Gasolina  2021   \n",
       "4               CITROEN C3 1.5BlueHDi S&S Feel Pack 100      Diésel  2020   \n",
       "...                                                 ...         ...   ...   \n",
       "9995    HYUNDAI Kona Creative 5p SUV 1.6 CRDi 136 DCT-7      Diésel  2019   \n",
       "9996                   SEAT Arona 1.0 TSI S&S Style 110    Gasolina  2021   \n",
       "9997     AUDI Q2 ADVANCED 30 TDI  85(116) KW(CV) 6 VEL.      Diésel  2022   \n",
       "9998         SSANGYONG Korando G15 GLP Limited 4x2 L.P.    Gasolina  2021   \n",
       "9999         AUDI A5 Deportivo  Automático de 2 Puertas    Gasolina  2018   \n",
       "\n",
       "             Kms      Cv  Provincia    Precio  \n",
       "0      12.908 km  120 cv  Guipúzcoa  23.400 €  \n",
       "1       5.737 km  218 cv      Cádiz  46.900 €  \n",
       "2      34.248 km  150 cv   Valencia  35.000 €  \n",
       "3      53.657 km  110 cv  La Coruña  20.980 €  \n",
       "4      23.971 km  100 cv  Guipúzcoa  16.900 €  \n",
       "...          ...     ...        ...       ...  \n",
       "9995  101.511 km  136 cv  La Coruña  20.990 €  \n",
       "9996   61.664 km  110 cv  La Coruña  19.540 €  \n",
       "9997   26.270 km  116 cv     Murcia  31.000 €  \n",
       "9998   25.972 km  149 cv     Madrid  25.500 €  \n",
       "9999   89.000 km  450 cv     Málaga  59.900 €  \n",
       "\n",
       "[10000 rows x 7 columns]"
      ]
     },
     "execution_count": 5,
     "metadata": {},
     "output_type": "execute_result"
    }
   ],
   "source": [
    "#Lectura desde un archivo csv con la extraccion de la segunda pagina https://www.autocasion.com\n",
    "#y asignacion a la variable test\n",
    "test = pd.read_csv('todo.csv')\n",
    "test"
   ]
  },
  {
   "cell_type": "code",
   "execution_count": 6,
   "id": "9df3efa3",
   "metadata": {},
   "outputs": [
    {
     "data": {
      "text/html": [
       "<div>\n",
       "<style scoped>\n",
       "    .dataframe tbody tr th:only-of-type {\n",
       "        vertical-align: middle;\n",
       "    }\n",
       "\n",
       "    .dataframe tbody tr th {\n",
       "        vertical-align: top;\n",
       "    }\n",
       "\n",
       "    .dataframe thead th {\n",
       "        text-align: right;\n",
       "    }\n",
       "</style>\n",
       "<table border=\"1\" class=\"dataframe\">\n",
       "  <thead>\n",
       "    <tr style=\"text-align: right;\">\n",
       "      <th></th>\n",
       "      <th>Marca</th>\n",
       "      <th>Modelo</th>\n",
       "      <th>Cv</th>\n",
       "      <th>Año</th>\n",
       "      <th>Kms</th>\n",
       "      <th>Combustible</th>\n",
       "      <th>Provincia</th>\n",
       "      <th>Precio</th>\n",
       "    </tr>\n",
       "  </thead>\n",
       "  <tbody>\n",
       "    <tr>\n",
       "      <th>0</th>\n",
       "      <td>Fiat</td>\n",
       "      <td>Fiorino SX Cargo</td>\n",
       "      <td>75</td>\n",
       "      <td>2023</td>\n",
       "      <td>144.000</td>\n",
       "      <td>Diésel</td>\n",
       "      <td>Barcelona</td>\n",
       "      <td>6.999</td>\n",
       "    </tr>\n",
       "    <tr>\n",
       "      <th>1</th>\n",
       "      <td>Fiat</td>\n",
       "      <td>Fiorino Comercial FIAT</td>\n",
       "      <td>80</td>\n",
       "      <td>2023</td>\n",
       "      <td>144.000</td>\n",
       "      <td>Diésel</td>\n",
       "      <td>Barcelona</td>\n",
       "      <td>7.299</td>\n",
       "    </tr>\n",
       "    <tr>\n",
       "      <th>2</th>\n",
       "      <td>Citroen</td>\n",
       "      <td>Ami ELECTRICO POP</td>\n",
       "      <td>-</td>\n",
       "      <td>2023</td>\n",
       "      <td>0</td>\n",
       "      <td>Eléctrico</td>\n",
       "      <td>Córdoba</td>\n",
       "      <td>8.490</td>\n",
       "    </tr>\n",
       "    <tr>\n",
       "      <th>3</th>\n",
       "      <td>Citroen</td>\n",
       "      <td>Ami BEV MY POP 8 2P</td>\n",
       "      <td>8</td>\n",
       "      <td>2023</td>\n",
       "      <td>100</td>\n",
       "      <td>Eléctrico</td>\n",
       "      <td>Zamora</td>\n",
       "      <td>8.990</td>\n",
       "    </tr>\n",
       "    <tr>\n",
       "      <th>4</th>\n",
       "      <td>Dacia</td>\n",
       "      <td>Sandero 1.0 Base 55kW</td>\n",
       "      <td>75</td>\n",
       "      <td>2022</td>\n",
       "      <td>884</td>\n",
       "      <td>Gasolina</td>\n",
       "      <td>Valencia</td>\n",
       "      <td>9.990</td>\n",
       "    </tr>\n",
       "    <tr>\n",
       "      <th>...</th>\n",
       "      <td>...</td>\n",
       "      <td>...</td>\n",
       "      <td>...</td>\n",
       "      <td>...</td>\n",
       "      <td>...</td>\n",
       "      <td>...</td>\n",
       "      <td>...</td>\n",
       "      <td>...</td>\n",
       "    </tr>\n",
       "    <tr>\n",
       "      <th>235425</th>\n",
       "      <td>Mercedes-Benz</td>\n",
       "      <td>300 TD Turbodiesel (123)</td>\n",
       "      <td>-</td>\n",
       "      <td>1980</td>\n",
       "      <td>10</td>\n",
       "      <td>Gasolina</td>\n",
       "      <td>Madrid</td>\n",
       "      <td>39.700</td>\n",
       "    </tr>\n",
       "    <tr>\n",
       "      <th>235426</th>\n",
       "      <td>Porsche</td>\n",
       "      <td>928 Deportivo 326cv Manual de 5 Puertas</td>\n",
       "      <td>326</td>\n",
       "      <td>1979</td>\n",
       "      <td>157.000</td>\n",
       "      <td>Gasolina</td>\n",
       "      <td>Barcelona</td>\n",
       "      <td>39.900</td>\n",
       "    </tr>\n",
       "    <tr>\n",
       "      <th>235427</th>\n",
       "      <td>Porsche</td>\n",
       "      <td>928 Deportivo 326cv Manual de 5 Puertas</td>\n",
       "      <td>326</td>\n",
       "      <td>1979</td>\n",
       "      <td>157.000</td>\n",
       "      <td>Gasolina</td>\n",
       "      <td>Barcelona</td>\n",
       "      <td>39.900</td>\n",
       "    </tr>\n",
       "    <tr>\n",
       "      <th>235428</th>\n",
       "      <td>Porsche</td>\n",
       "      <td>928</td>\n",
       "      <td>-</td>\n",
       "      <td>1980</td>\n",
       "      <td>74.680</td>\n",
       "      <td>Gasolina</td>\n",
       "      <td>Málaga</td>\n",
       "      <td>44.900</td>\n",
       "    </tr>\n",
       "    <tr>\n",
       "      <th>235429</th>\n",
       "      <td>Pontiac</td>\n",
       "      <td>Firebird Trans-Am</td>\n",
       "      <td>-</td>\n",
       "      <td>1979</td>\n",
       "      <td>4.500</td>\n",
       "      <td>Gasolina</td>\n",
       "      <td>Madrid</td>\n",
       "      <td>45.900</td>\n",
       "    </tr>\n",
       "  </tbody>\n",
       "</table>\n",
       "<p>235430 rows × 8 columns</p>\n",
       "</div>"
      ],
      "text/plain": [
       "                Marca                                   Modelo   Cv   Año  \\\n",
       "0                Fiat                         Fiorino SX Cargo   75  2023   \n",
       "1                Fiat                   Fiorino Comercial FIAT   80  2023   \n",
       "2             Citroen                        Ami ELECTRICO POP    -  2023   \n",
       "3             Citroen                      Ami BEV MY POP 8 2P    8  2023   \n",
       "4               Dacia                    Sandero 1.0 Base 55kW   75  2022   \n",
       "...               ...                                      ...  ...   ...   \n",
       "235425  Mercedes-Benz                 300 TD Turbodiesel (123)    -  1980   \n",
       "235426        Porsche  928 Deportivo 326cv Manual de 5 Puertas  326  1979   \n",
       "235427        Porsche  928 Deportivo 326cv Manual de 5 Puertas  326  1979   \n",
       "235428        Porsche                                     928     -  1980   \n",
       "235429        Pontiac                        Firebird Trans-Am    -  1979   \n",
       "\n",
       "            Kms Combustible  Provincia  Precio  \n",
       "0       144.000      Diésel  Barcelona   6.999  \n",
       "1       144.000      Diésel  Barcelona   7.299  \n",
       "2             0   Eléctrico    Córdoba   8.490  \n",
       "3           100   Eléctrico     Zamora   8.990  \n",
       "4           884    Gasolina   Valencia   9.990  \n",
       "...         ...         ...        ...     ...  \n",
       "235425       10    Gasolina     Madrid  39.700  \n",
       "235426  157.000    Gasolina  Barcelona  39.900  \n",
       "235427  157.000    Gasolina  Barcelona  39.900  \n",
       "235428   74.680    Gasolina     Málaga  44.900  \n",
       "235429    4.500    Gasolina     Madrid  45.900  \n",
       "\n",
       "[235430 rows x 8 columns]"
      ]
     },
     "execution_count": 6,
     "metadata": {},
     "output_type": "execute_result"
    }
   ],
   "source": [
    "# Ponemos las columnas en modo título y reordenamos las columnas del DataFrame train\n",
    "train.columns = train.columns.str.title()\n",
    "orden_columnas = ['Marca', 'Modelo', 'Cv', 'Año', 'Kms', 'Combustible', 'Provincia', 'Precio']\n",
    "train = train[orden_columnas]\n",
    "train"
   ]
  },
  {
   "cell_type": "markdown",
   "id": "721cf87f",
   "metadata": {},
   "source": [
    "#### Vamos a pasar a preprocesamiento de la variable test. A partir del DataFrame inicial, vamos a eliminar elementos sobrantes como km, cv y ademas la columna marcas va a quedar dividida en funcion de la marca propiamente dicha y del modelo de coche en cuestion. finalmente eliminaremos la columna inicial,\n"
   ]
  },
  {
   "cell_type": "code",
   "execution_count": 7,
   "id": "d23b451e",
   "metadata": {},
   "outputs": [],
   "source": [
    "test['Kms'] = test['Kms'].str.split().str[0]"
   ]
  },
  {
   "cell_type": "code",
   "execution_count": 8,
   "id": "69d28896",
   "metadata": {},
   "outputs": [],
   "source": [
    "test['Precio'] = test['Precio'].str.replace(' €', '')"
   ]
  },
  {
   "cell_type": "code",
   "execution_count": 9,
   "id": "90cf17b9",
   "metadata": {},
   "outputs": [],
   "source": [
    "test['Precio'] = pd.to_numeric(test['Precio'], errors='coerce')"
   ]
  },
  {
   "cell_type": "code",
   "execution_count": 10,
   "id": "3b3d178e",
   "metadata": {},
   "outputs": [],
   "source": [
    "test['Marca'] = test['Marcas'].str.split().str[0]"
   ]
  },
  {
   "cell_type": "code",
   "execution_count": 11,
   "id": "289ae27b",
   "metadata": {},
   "outputs": [],
   "source": [
    "test['Modelo'] = test['Marcas'].str.split(n=1).str[1]"
   ]
  },
  {
   "cell_type": "code",
   "execution_count": 12,
   "id": "6c0d32a5",
   "metadata": {},
   "outputs": [],
   "source": [
    "test = test.drop(columns=['Marcas'])"
   ]
  },
  {
   "cell_type": "code",
   "execution_count": 13,
   "id": "79d1daf1",
   "metadata": {},
   "outputs": [],
   "source": [
    "test['Cv'] = test['Cv'].str.split().str[0]"
   ]
  },
  {
   "cell_type": "code",
   "execution_count": 14,
   "id": "c69b29e5",
   "metadata": {},
   "outputs": [
    {
     "data": {
      "text/html": [
       "<div>\n",
       "<style scoped>\n",
       "    .dataframe tbody tr th:only-of-type {\n",
       "        vertical-align: middle;\n",
       "    }\n",
       "\n",
       "    .dataframe tbody tr th {\n",
       "        vertical-align: top;\n",
       "    }\n",
       "\n",
       "    .dataframe thead th {\n",
       "        text-align: right;\n",
       "    }\n",
       "</style>\n",
       "<table border=\"1\" class=\"dataframe\">\n",
       "  <thead>\n",
       "    <tr style=\"text-align: right;\">\n",
       "      <th></th>\n",
       "      <th>Marca</th>\n",
       "      <th>Modelo</th>\n",
       "      <th>Cv</th>\n",
       "      <th>Año</th>\n",
       "      <th>Kms</th>\n",
       "      <th>Combustible</th>\n",
       "      <th>Provincia</th>\n",
       "      <th>Precio</th>\n",
       "    </tr>\n",
       "  </thead>\n",
       "  <tbody>\n",
       "    <tr>\n",
       "      <th>0</th>\n",
       "      <td>CITROEN</td>\n",
       "      <td>C3 Aircross BlueHDi S&amp;S Shine EAT6 120</td>\n",
       "      <td>120</td>\n",
       "      <td>2020</td>\n",
       "      <td>12.908</td>\n",
       "      <td>Diésel</td>\n",
       "      <td>Guipúzcoa</td>\n",
       "      <td>23.40</td>\n",
       "    </tr>\n",
       "    <tr>\n",
       "      <th>1</th>\n",
       "      <td>MERCEDES-BENZ</td>\n",
       "      <td>Clase A 250 e</td>\n",
       "      <td>218</td>\n",
       "      <td>2023</td>\n",
       "      <td>5.737</td>\n",
       "      <td>Híbrido</td>\n",
       "      <td>Cádiz</td>\n",
       "      <td>46.90</td>\n",
       "    </tr>\n",
       "    <tr>\n",
       "      <th>2</th>\n",
       "      <td>MERCEDES-BENZ</td>\n",
       "      <td>Clase A 200 d Progressive (EURO 6d)</td>\n",
       "      <td>150</td>\n",
       "      <td>2021</td>\n",
       "      <td>34.248</td>\n",
       "      <td>Diésel</td>\n",
       "      <td>Valencia</td>\n",
       "      <td>35.00</td>\n",
       "    </tr>\n",
       "    <tr>\n",
       "      <th>3</th>\n",
       "      <td>SEAT</td>\n",
       "      <td>Arona 1.0 TSI S&amp;S Style 110</td>\n",
       "      <td>110</td>\n",
       "      <td>2021</td>\n",
       "      <td>53.657</td>\n",
       "      <td>Gasolina</td>\n",
       "      <td>La Coruña</td>\n",
       "      <td>20.98</td>\n",
       "    </tr>\n",
       "    <tr>\n",
       "      <th>4</th>\n",
       "      <td>CITROEN</td>\n",
       "      <td>C3 1.5BlueHDi S&amp;S Feel Pack 100</td>\n",
       "      <td>100</td>\n",
       "      <td>2020</td>\n",
       "      <td>23.971</td>\n",
       "      <td>Diésel</td>\n",
       "      <td>Guipúzcoa</td>\n",
       "      <td>16.90</td>\n",
       "    </tr>\n",
       "    <tr>\n",
       "      <th>...</th>\n",
       "      <td>...</td>\n",
       "      <td>...</td>\n",
       "      <td>...</td>\n",
       "      <td>...</td>\n",
       "      <td>...</td>\n",
       "      <td>...</td>\n",
       "      <td>...</td>\n",
       "      <td>...</td>\n",
       "    </tr>\n",
       "    <tr>\n",
       "      <th>9995</th>\n",
       "      <td>HYUNDAI</td>\n",
       "      <td>Kona Creative 5p SUV 1.6 CRDi 136 DCT-7</td>\n",
       "      <td>136</td>\n",
       "      <td>2019</td>\n",
       "      <td>101.511</td>\n",
       "      <td>Diésel</td>\n",
       "      <td>La Coruña</td>\n",
       "      <td>20.99</td>\n",
       "    </tr>\n",
       "    <tr>\n",
       "      <th>9996</th>\n",
       "      <td>SEAT</td>\n",
       "      <td>Arona 1.0 TSI S&amp;S Style 110</td>\n",
       "      <td>110</td>\n",
       "      <td>2021</td>\n",
       "      <td>61.664</td>\n",
       "      <td>Gasolina</td>\n",
       "      <td>La Coruña</td>\n",
       "      <td>19.54</td>\n",
       "    </tr>\n",
       "    <tr>\n",
       "      <th>9997</th>\n",
       "      <td>AUDI</td>\n",
       "      <td>Q2 ADVANCED 30 TDI  85(116) KW(CV) 6 VEL.</td>\n",
       "      <td>116</td>\n",
       "      <td>2022</td>\n",
       "      <td>26.270</td>\n",
       "      <td>Diésel</td>\n",
       "      <td>Murcia</td>\n",
       "      <td>31.00</td>\n",
       "    </tr>\n",
       "    <tr>\n",
       "      <th>9998</th>\n",
       "      <td>SSANGYONG</td>\n",
       "      <td>Korando G15 GLP Limited 4x2 L.P.</td>\n",
       "      <td>149</td>\n",
       "      <td>2021</td>\n",
       "      <td>25.972</td>\n",
       "      <td>Gasolina</td>\n",
       "      <td>Madrid</td>\n",
       "      <td>25.50</td>\n",
       "    </tr>\n",
       "    <tr>\n",
       "      <th>9999</th>\n",
       "      <td>AUDI</td>\n",
       "      <td>A5 Deportivo  Automático de 2 Puertas</td>\n",
       "      <td>450</td>\n",
       "      <td>2018</td>\n",
       "      <td>89.000</td>\n",
       "      <td>Gasolina</td>\n",
       "      <td>Málaga</td>\n",
       "      <td>59.90</td>\n",
       "    </tr>\n",
       "  </tbody>\n",
       "</table>\n",
       "<p>10000 rows × 8 columns</p>\n",
       "</div>"
      ],
      "text/plain": [
       "              Marca                                     Modelo   Cv   Año  \\\n",
       "0           CITROEN     C3 Aircross BlueHDi S&S Shine EAT6 120  120  2020   \n",
       "1     MERCEDES-BENZ                              Clase A 250 e  218  2023   \n",
       "2     MERCEDES-BENZ        Clase A 200 d Progressive (EURO 6d)  150  2021   \n",
       "3              SEAT                Arona 1.0 TSI S&S Style 110  110  2021   \n",
       "4           CITROEN            C3 1.5BlueHDi S&S Feel Pack 100  100  2020   \n",
       "...             ...                                        ...  ...   ...   \n",
       "9995        HYUNDAI    Kona Creative 5p SUV 1.6 CRDi 136 DCT-7  136  2019   \n",
       "9996           SEAT                Arona 1.0 TSI S&S Style 110  110  2021   \n",
       "9997           AUDI  Q2 ADVANCED 30 TDI  85(116) KW(CV) 6 VEL.  116  2022   \n",
       "9998      SSANGYONG           Korando G15 GLP Limited 4x2 L.P.  149  2021   \n",
       "9999           AUDI      A5 Deportivo  Automático de 2 Puertas  450  2018   \n",
       "\n",
       "          Kms Combustible  Provincia  Precio  \n",
       "0      12.908      Diésel  Guipúzcoa   23.40  \n",
       "1       5.737     Híbrido      Cádiz   46.90  \n",
       "2      34.248      Diésel   Valencia   35.00  \n",
       "3      53.657    Gasolina  La Coruña   20.98  \n",
       "4      23.971      Diésel  Guipúzcoa   16.90  \n",
       "...       ...         ...        ...     ...  \n",
       "9995  101.511      Diésel  La Coruña   20.99  \n",
       "9996   61.664    Gasolina  La Coruña   19.54  \n",
       "9997   26.270      Diésel     Murcia   31.00  \n",
       "9998   25.972    Gasolina     Madrid   25.50  \n",
       "9999   89.000    Gasolina     Málaga   59.90  \n",
       "\n",
       "[10000 rows x 8 columns]"
      ]
     },
     "execution_count": 14,
     "metadata": {},
     "output_type": "execute_result"
    }
   ],
   "source": [
    "# Reordenar las columnas del DataFrame test\n",
    "orden_columnas = ['Marca', 'Modelo', 'Cv', 'Año', 'Kms', 'Combustible', 'Provincia', 'Precio']\n",
    "test = test[orden_columnas]\n",
    "test"
   ]
  },
  {
   "cell_type": "markdown",
   "id": "0bd6c4b9",
   "metadata": {},
   "source": [
    "#### Debido a que la extracción esta hecha desde varias páginas, uniremos los DataFrames y así tendremos unos datos que sean homogeneos cuando realicemos la partición para el entrenamiento y validacion. \n"
   ]
  },
  {
   "cell_type": "code",
   "execution_count": 15,
   "id": "13a81e89",
   "metadata": {},
   "outputs": [
    {
     "data": {
      "text/html": [
       "<div>\n",
       "<style scoped>\n",
       "    .dataframe tbody tr th:only-of-type {\n",
       "        vertical-align: middle;\n",
       "    }\n",
       "\n",
       "    .dataframe tbody tr th {\n",
       "        vertical-align: top;\n",
       "    }\n",
       "\n",
       "    .dataframe thead th {\n",
       "        text-align: right;\n",
       "    }\n",
       "</style>\n",
       "<table border=\"1\" class=\"dataframe\">\n",
       "  <thead>\n",
       "    <tr style=\"text-align: right;\">\n",
       "      <th></th>\n",
       "      <th>Marca</th>\n",
       "      <th>Modelo</th>\n",
       "      <th>Cv</th>\n",
       "      <th>Año</th>\n",
       "      <th>Kms</th>\n",
       "      <th>Combustible</th>\n",
       "      <th>Provincia</th>\n",
       "      <th>Precio</th>\n",
       "    </tr>\n",
       "  </thead>\n",
       "  <tbody>\n",
       "    <tr>\n",
       "      <th>0</th>\n",
       "      <td>Fiat</td>\n",
       "      <td>Fiorino SX Cargo</td>\n",
       "      <td>75</td>\n",
       "      <td>2023</td>\n",
       "      <td>144.000</td>\n",
       "      <td>Diésel</td>\n",
       "      <td>Barcelona</td>\n",
       "      <td>6.999</td>\n",
       "    </tr>\n",
       "    <tr>\n",
       "      <th>1</th>\n",
       "      <td>Fiat</td>\n",
       "      <td>Fiorino Comercial FIAT</td>\n",
       "      <td>80</td>\n",
       "      <td>2023</td>\n",
       "      <td>144.000</td>\n",
       "      <td>Diésel</td>\n",
       "      <td>Barcelona</td>\n",
       "      <td>7.299</td>\n",
       "    </tr>\n",
       "    <tr>\n",
       "      <th>2</th>\n",
       "      <td>Citroen</td>\n",
       "      <td>Ami ELECTRICO POP</td>\n",
       "      <td>-</td>\n",
       "      <td>2023</td>\n",
       "      <td>0</td>\n",
       "      <td>Eléctrico</td>\n",
       "      <td>Córdoba</td>\n",
       "      <td>8.490</td>\n",
       "    </tr>\n",
       "    <tr>\n",
       "      <th>3</th>\n",
       "      <td>Citroen</td>\n",
       "      <td>Ami BEV MY POP 8 2P</td>\n",
       "      <td>8</td>\n",
       "      <td>2023</td>\n",
       "      <td>100</td>\n",
       "      <td>Eléctrico</td>\n",
       "      <td>Zamora</td>\n",
       "      <td>8.990</td>\n",
       "    </tr>\n",
       "    <tr>\n",
       "      <th>4</th>\n",
       "      <td>Dacia</td>\n",
       "      <td>Sandero 1.0 Base 55kW</td>\n",
       "      <td>75</td>\n",
       "      <td>2022</td>\n",
       "      <td>884</td>\n",
       "      <td>Gasolina</td>\n",
       "      <td>Valencia</td>\n",
       "      <td>9.990</td>\n",
       "    </tr>\n",
       "    <tr>\n",
       "      <th>...</th>\n",
       "      <td>...</td>\n",
       "      <td>...</td>\n",
       "      <td>...</td>\n",
       "      <td>...</td>\n",
       "      <td>...</td>\n",
       "      <td>...</td>\n",
       "      <td>...</td>\n",
       "      <td>...</td>\n",
       "    </tr>\n",
       "    <tr>\n",
       "      <th>245425</th>\n",
       "      <td>HYUNDAI</td>\n",
       "      <td>Kona Creative 5p SUV 1.6 CRDi 136 DCT-7</td>\n",
       "      <td>136</td>\n",
       "      <td>2019</td>\n",
       "      <td>101.511</td>\n",
       "      <td>Diésel</td>\n",
       "      <td>La Coruña</td>\n",
       "      <td>20.990</td>\n",
       "    </tr>\n",
       "    <tr>\n",
       "      <th>245426</th>\n",
       "      <td>SEAT</td>\n",
       "      <td>Arona 1.0 TSI S&amp;S Style 110</td>\n",
       "      <td>110</td>\n",
       "      <td>2021</td>\n",
       "      <td>61.664</td>\n",
       "      <td>Gasolina</td>\n",
       "      <td>La Coruña</td>\n",
       "      <td>19.540</td>\n",
       "    </tr>\n",
       "    <tr>\n",
       "      <th>245427</th>\n",
       "      <td>AUDI</td>\n",
       "      <td>Q2 ADVANCED 30 TDI  85(116) KW(CV) 6 VEL.</td>\n",
       "      <td>116</td>\n",
       "      <td>2022</td>\n",
       "      <td>26.270</td>\n",
       "      <td>Diésel</td>\n",
       "      <td>Murcia</td>\n",
       "      <td>31.000</td>\n",
       "    </tr>\n",
       "    <tr>\n",
       "      <th>245428</th>\n",
       "      <td>SSANGYONG</td>\n",
       "      <td>Korando G15 GLP Limited 4x2 L.P.</td>\n",
       "      <td>149</td>\n",
       "      <td>2021</td>\n",
       "      <td>25.972</td>\n",
       "      <td>Gasolina</td>\n",
       "      <td>Madrid</td>\n",
       "      <td>25.500</td>\n",
       "    </tr>\n",
       "    <tr>\n",
       "      <th>245429</th>\n",
       "      <td>AUDI</td>\n",
       "      <td>A5 Deportivo  Automático de 2 Puertas</td>\n",
       "      <td>450</td>\n",
       "      <td>2018</td>\n",
       "      <td>89.000</td>\n",
       "      <td>Gasolina</td>\n",
       "      <td>Málaga</td>\n",
       "      <td>59.900</td>\n",
       "    </tr>\n",
       "  </tbody>\n",
       "</table>\n",
       "<p>245430 rows × 8 columns</p>\n",
       "</div>"
      ],
      "text/plain": [
       "            Marca                                     Modelo   Cv   Año  \\\n",
       "0            Fiat                           Fiorino SX Cargo   75  2023   \n",
       "1            Fiat                     Fiorino Comercial FIAT   80  2023   \n",
       "2         Citroen                          Ami ELECTRICO POP    -  2023   \n",
       "3         Citroen                        Ami BEV MY POP 8 2P    8  2023   \n",
       "4           Dacia                      Sandero 1.0 Base 55kW   75  2022   \n",
       "...           ...                                        ...  ...   ...   \n",
       "245425    HYUNDAI    Kona Creative 5p SUV 1.6 CRDi 136 DCT-7  136  2019   \n",
       "245426       SEAT                Arona 1.0 TSI S&S Style 110  110  2021   \n",
       "245427       AUDI  Q2 ADVANCED 30 TDI  85(116) KW(CV) 6 VEL.  116  2022   \n",
       "245428  SSANGYONG           Korando G15 GLP Limited 4x2 L.P.  149  2021   \n",
       "245429       AUDI      A5 Deportivo  Automático de 2 Puertas  450  2018   \n",
       "\n",
       "            Kms Combustible  Provincia  Precio  \n",
       "0       144.000      Diésel  Barcelona   6.999  \n",
       "1       144.000      Diésel  Barcelona   7.299  \n",
       "2             0   Eléctrico    Córdoba   8.490  \n",
       "3           100   Eléctrico     Zamora   8.990  \n",
       "4           884    Gasolina   Valencia   9.990  \n",
       "...         ...         ...        ...     ...  \n",
       "245425  101.511      Diésel  La Coruña  20.990  \n",
       "245426   61.664    Gasolina  La Coruña  19.540  \n",
       "245427   26.270      Diésel     Murcia  31.000  \n",
       "245428   25.972    Gasolina     Madrid  25.500  \n",
       "245429   89.000    Gasolina     Málaga  59.900  \n",
       "\n",
       "[245430 rows x 8 columns]"
      ]
     },
     "execution_count": 15,
     "metadata": {},
     "output_type": "execute_result"
    }
   ],
   "source": [
    "train_test = pd.concat([train, test], ignore_index=True)\n",
    "train_test"
   ]
  },
  {
   "cell_type": "code",
   "execution_count": 16,
   "id": "f29d173e",
   "metadata": {},
   "outputs": [
    {
     "name": "stdout",
     "output_type": "stream",
     "text": [
      "<class 'pandas.core.frame.DataFrame'>\n",
      "RangeIndex: 245430 entries, 0 to 245429\n",
      "Data columns (total 8 columns):\n",
      " #   Column       Non-Null Count   Dtype  \n",
      "---  ------       --------------   -----  \n",
      " 0   Marca        245430 non-null  object \n",
      " 1   Modelo       245430 non-null  object \n",
      " 2   Cv           245430 non-null  object \n",
      " 3   Año          245430 non-null  int64  \n",
      " 4   Kms          245430 non-null  object \n",
      " 5   Combustible  245430 non-null  object \n",
      " 6   Provincia    245430 non-null  object \n",
      " 7   Precio       245386 non-null  float64\n",
      "dtypes: float64(1), int64(1), object(6)\n",
      "memory usage: 15.0+ MB\n"
     ]
    }
   ],
   "source": [
    "train_test.info()"
   ]
  },
  {
   "cell_type": "markdown",
   "id": "c57d69b1",
   "metadata": {},
   "source": [
    "#### Comprobamos que el tipo de variable de varias de las columnas, no coincide con el debido. Para ello procedemos a un cambio de tipo object a tipo numérica.\n"
   ]
  },
  {
   "cell_type": "code",
   "execution_count": 17,
   "id": "d52552b7",
   "metadata": {},
   "outputs": [],
   "source": [
    "train_test['Cv'] = pd.to_numeric(train_test['Cv'], errors='coerce')"
   ]
  },
  {
   "cell_type": "code",
   "execution_count": 18,
   "id": "40c3e5b8",
   "metadata": {},
   "outputs": [],
   "source": [
    "train_test['Kms'] = pd.to_numeric(train_test['Kms'], errors='coerce')"
   ]
  },
  {
   "cell_type": "code",
   "execution_count": 19,
   "id": "aaa60fa7",
   "metadata": {},
   "outputs": [
    {
     "data": {
      "text/html": [
       "<div>\n",
       "<style scoped>\n",
       "    .dataframe tbody tr th:only-of-type {\n",
       "        vertical-align: middle;\n",
       "    }\n",
       "\n",
       "    .dataframe tbody tr th {\n",
       "        vertical-align: top;\n",
       "    }\n",
       "\n",
       "    .dataframe thead th {\n",
       "        text-align: right;\n",
       "    }\n",
       "</style>\n",
       "<table border=\"1\" class=\"dataframe\">\n",
       "  <thead>\n",
       "    <tr style=\"text-align: right;\">\n",
       "      <th></th>\n",
       "      <th>Marca</th>\n",
       "      <th>Modelo</th>\n",
       "      <th>Cv</th>\n",
       "      <th>Año</th>\n",
       "      <th>Kms</th>\n",
       "      <th>Combustible</th>\n",
       "      <th>Provincia</th>\n",
       "      <th>Precio</th>\n",
       "    </tr>\n",
       "  </thead>\n",
       "  <tbody>\n",
       "    <tr>\n",
       "      <th>0</th>\n",
       "      <td>Fiat</td>\n",
       "      <td>Fiorino SX Cargo</td>\n",
       "      <td>75.0</td>\n",
       "      <td>2023</td>\n",
       "      <td>144.000</td>\n",
       "      <td>Diésel</td>\n",
       "      <td>Barcelona</td>\n",
       "      <td>6.999</td>\n",
       "    </tr>\n",
       "    <tr>\n",
       "      <th>1</th>\n",
       "      <td>Fiat</td>\n",
       "      <td>Fiorino Comercial FIAT</td>\n",
       "      <td>80.0</td>\n",
       "      <td>2023</td>\n",
       "      <td>144.000</td>\n",
       "      <td>Diésel</td>\n",
       "      <td>Barcelona</td>\n",
       "      <td>7.299</td>\n",
       "    </tr>\n",
       "    <tr>\n",
       "      <th>2</th>\n",
       "      <td>Citroen</td>\n",
       "      <td>Ami ELECTRICO POP</td>\n",
       "      <td>NaN</td>\n",
       "      <td>2023</td>\n",
       "      <td>0.000</td>\n",
       "      <td>Eléctrico</td>\n",
       "      <td>Córdoba</td>\n",
       "      <td>8.490</td>\n",
       "    </tr>\n",
       "    <tr>\n",
       "      <th>3</th>\n",
       "      <td>Citroen</td>\n",
       "      <td>Ami BEV MY POP 8 2P</td>\n",
       "      <td>8.0</td>\n",
       "      <td>2023</td>\n",
       "      <td>100.000</td>\n",
       "      <td>Eléctrico</td>\n",
       "      <td>Zamora</td>\n",
       "      <td>8.990</td>\n",
       "    </tr>\n",
       "    <tr>\n",
       "      <th>4</th>\n",
       "      <td>Dacia</td>\n",
       "      <td>Sandero 1.0 Base 55kW</td>\n",
       "      <td>75.0</td>\n",
       "      <td>2022</td>\n",
       "      <td>884.000</td>\n",
       "      <td>Gasolina</td>\n",
       "      <td>Valencia</td>\n",
       "      <td>9.990</td>\n",
       "    </tr>\n",
       "    <tr>\n",
       "      <th>...</th>\n",
       "      <td>...</td>\n",
       "      <td>...</td>\n",
       "      <td>...</td>\n",
       "      <td>...</td>\n",
       "      <td>...</td>\n",
       "      <td>...</td>\n",
       "      <td>...</td>\n",
       "      <td>...</td>\n",
       "    </tr>\n",
       "    <tr>\n",
       "      <th>245425</th>\n",
       "      <td>HYUNDAI</td>\n",
       "      <td>Kona Creative 5p SUV 1.6 CRDi 136 DCT-7</td>\n",
       "      <td>136.0</td>\n",
       "      <td>2019</td>\n",
       "      <td>101.511</td>\n",
       "      <td>Diésel</td>\n",
       "      <td>La Coruña</td>\n",
       "      <td>20.990</td>\n",
       "    </tr>\n",
       "    <tr>\n",
       "      <th>245426</th>\n",
       "      <td>SEAT</td>\n",
       "      <td>Arona 1.0 TSI S&amp;S Style 110</td>\n",
       "      <td>110.0</td>\n",
       "      <td>2021</td>\n",
       "      <td>61.664</td>\n",
       "      <td>Gasolina</td>\n",
       "      <td>La Coruña</td>\n",
       "      <td>19.540</td>\n",
       "    </tr>\n",
       "    <tr>\n",
       "      <th>245427</th>\n",
       "      <td>AUDI</td>\n",
       "      <td>Q2 ADVANCED 30 TDI  85(116) KW(CV) 6 VEL.</td>\n",
       "      <td>116.0</td>\n",
       "      <td>2022</td>\n",
       "      <td>26.270</td>\n",
       "      <td>Diésel</td>\n",
       "      <td>Murcia</td>\n",
       "      <td>31.000</td>\n",
       "    </tr>\n",
       "    <tr>\n",
       "      <th>245428</th>\n",
       "      <td>SSANGYONG</td>\n",
       "      <td>Korando G15 GLP Limited 4x2 L.P.</td>\n",
       "      <td>149.0</td>\n",
       "      <td>2021</td>\n",
       "      <td>25.972</td>\n",
       "      <td>Gasolina</td>\n",
       "      <td>Madrid</td>\n",
       "      <td>25.500</td>\n",
       "    </tr>\n",
       "    <tr>\n",
       "      <th>245429</th>\n",
       "      <td>AUDI</td>\n",
       "      <td>A5 Deportivo  Automático de 2 Puertas</td>\n",
       "      <td>450.0</td>\n",
       "      <td>2018</td>\n",
       "      <td>89.000</td>\n",
       "      <td>Gasolina</td>\n",
       "      <td>Málaga</td>\n",
       "      <td>59.900</td>\n",
       "    </tr>\n",
       "  </tbody>\n",
       "</table>\n",
       "<p>245430 rows × 8 columns</p>\n",
       "</div>"
      ],
      "text/plain": [
       "            Marca                                     Modelo     Cv   Año  \\\n",
       "0            Fiat                           Fiorino SX Cargo   75.0  2023   \n",
       "1            Fiat                     Fiorino Comercial FIAT   80.0  2023   \n",
       "2         Citroen                          Ami ELECTRICO POP    NaN  2023   \n",
       "3         Citroen                        Ami BEV MY POP 8 2P    8.0  2023   \n",
       "4           Dacia                      Sandero 1.0 Base 55kW   75.0  2022   \n",
       "...           ...                                        ...    ...   ...   \n",
       "245425    HYUNDAI    Kona Creative 5p SUV 1.6 CRDi 136 DCT-7  136.0  2019   \n",
       "245426       SEAT                Arona 1.0 TSI S&S Style 110  110.0  2021   \n",
       "245427       AUDI  Q2 ADVANCED 30 TDI  85(116) KW(CV) 6 VEL.  116.0  2022   \n",
       "245428  SSANGYONG           Korando G15 GLP Limited 4x2 L.P.  149.0  2021   \n",
       "245429       AUDI      A5 Deportivo  Automático de 2 Puertas  450.0  2018   \n",
       "\n",
       "            Kms Combustible  Provincia  Precio  \n",
       "0       144.000      Diésel  Barcelona   6.999  \n",
       "1       144.000      Diésel  Barcelona   7.299  \n",
       "2         0.000   Eléctrico    Córdoba   8.490  \n",
       "3       100.000   Eléctrico     Zamora   8.990  \n",
       "4       884.000    Gasolina   Valencia   9.990  \n",
       "...         ...         ...        ...     ...  \n",
       "245425  101.511      Diésel  La Coruña  20.990  \n",
       "245426   61.664    Gasolina  La Coruña  19.540  \n",
       "245427   26.270      Diésel     Murcia  31.000  \n",
       "245428   25.972    Gasolina     Madrid  25.500  \n",
       "245429   89.000    Gasolina     Málaga  59.900  \n",
       "\n",
       "[245430 rows x 8 columns]"
      ]
     },
     "execution_count": 19,
     "metadata": {},
     "output_type": "execute_result"
    }
   ],
   "source": [
    "train_test"
   ]
  },
  {
   "cell_type": "code",
   "execution_count": 20,
   "id": "1c2b368c",
   "metadata": {},
   "outputs": [],
   "source": [
    "train_test['Provincia'] = train_test['Provincia'].str.replace(\"Castellón\", \"Castellon\")\n",
    "train_test['Provincia'] = train_test['Provincia'].str.replace(\"Santa Cruz de Tenerife\", \"Tenerife\")\n",
    "train_test['Provincia'] = train_test['Provincia'].str.replace(\"Illes Balears\", \"Islas Baleares\")\n",
    "train_test['Provincia'] = train_test['Provincia'].str.replace(\"A Coruña\", \"La Coruña\")\n",
    "train_test['Provincia'] = train_test['Provincia'].str.replace(\"Coruña\", \"La Coruña\")\n",
    "train_test['Provincia'] = train_test['Provincia'].str.replace(\"La La Coruña\", \"La Coruña\")\n",
    "train_test['Provincia'] = train_test['Provincia'].str.replace(\"Ourense\", \"Orense\")\n",
    "train_test['Provincia'] = train_test['Provincia'].str.replace(\"Álava\", \"Alava\")\n",
    "train_test['Provincia'] = train_test['Provincia'].str.replace(\"Ávila\", \"Avila\")"
   ]
  },
  {
   "cell_type": "code",
   "execution_count": 21,
   "id": "a2d7356a",
   "metadata": {},
   "outputs": [
    {
     "name": "stdout",
     "output_type": "stream",
     "text": [
      "<class 'pandas.core.frame.DataFrame'>\n",
      "RangeIndex: 245430 entries, 0 to 245429\n",
      "Data columns (total 8 columns):\n",
      " #   Column       Non-Null Count   Dtype  \n",
      "---  ------       --------------   -----  \n",
      " 0   Marca        245430 non-null  object \n",
      " 1   Modelo       245430 non-null  object \n",
      " 2   Cv           244867 non-null  float64\n",
      " 3   Año          245430 non-null  int64  \n",
      " 4   Kms          240520 non-null  float64\n",
      " 5   Combustible  245430 non-null  object \n",
      " 6   Provincia    245430 non-null  object \n",
      " 7   Precio       245386 non-null  float64\n",
      "dtypes: float64(3), int64(1), object(4)\n",
      "memory usage: 15.0+ MB\n"
     ]
    }
   ],
   "source": [
    "train_test.info()"
   ]
  },
  {
   "cell_type": "code",
   "execution_count": 22,
   "id": "98b8bc1e",
   "metadata": {},
   "outputs": [
    {
     "data": {
      "text/plain": [
       "Marca          0\n",
       "Modelo         0\n",
       "Cv             0\n",
       "Año            0\n",
       "Kms            0\n",
       "Combustible    0\n",
       "Provincia      0\n",
       "Precio         0\n",
       "dtype: int64"
      ]
     },
     "execution_count": 22,
     "metadata": {},
     "output_type": "execute_result"
    }
   ],
   "source": [
    "# Por ka posibilidad de que haya NanNs, eliminamos y hacemos una copia por si necesitamos retroceder a DataFrames anteriores\n",
    "df = train_test.copy() \n",
    "df = df.dropna()\n",
    "df.isna().sum()"
   ]
  },
  {
   "cell_type": "code",
   "execution_count": 23,
   "id": "011dd4d3",
   "metadata": {},
   "outputs": [],
   "source": [
    "# Dividimos el DataFrame en categórico y númerico\n",
    "columnas_categoricas = df.select_dtypes(include=['object']).columns\n",
    "columnas_numericas = df.select_dtypes(include=['int64', 'float64']).columns\n",
    "\n",
    "# Crear nuevos DataFrames con las columnas separadas\n",
    "df_categorico = df[columnas_categoricas]\n",
    "df_numerico = df[columnas_numericas]"
   ]
  },
  {
   "cell_type": "code",
   "execution_count": 24,
   "id": "90fc495b",
   "metadata": {},
   "outputs": [
    {
     "data": {
      "image/png": "[encoded data removed]",
      "text/plain": [
       "<Figure size 1200x1600 with 8 Axes>"
      ]
     },
     "metadata": {},
     "output_type": "display_data"
    }
   ],
   "source": [
    "fig, axes_num = plt.subplots(nrows=len(df_numerico.columns), ncols=2, figsize=(12, 4 * len(df_numerico.columns)))\n",
    "\n",
    "# Iterar a través de las columnas numéricas\n",
    "for i, columna in enumerate(df_numerico.columns):\n",
    "    sns.boxplot(data=df_numerico, y=columna, ax=axes_num[i, 0])\n",
    "    axes_num[i, 0].set_title(f'Boxplot de {columna}')\n",
    "    \n",
    "    sns.histplot(data=df_numerico, x=columna, ax=axes_num[i, 1], kde=True)\n",
    "    axes_num[i, 1].set_title(f'Histograma de {columna}')\n",
    "\n",
    "#Ajustar espaci# Reordenar las columnas del DataFrameado entre subplots\n",
    "plt.tight_layout()\n",
    "\n",
    "# Mostrar los gráficos\n",
    "plt.show()"
   ]
  },
  {
   "cell_type": "code",
   "execution_count": 25,
   "id": "0306851e",
   "metadata": {},
   "outputs": [
    {
     "data": {
      "image/png": "[encoded data removed]",
      "text/plain": [
       "<Figure size 1200x600 with 1 Axes>"
      ]
     },
     "metadata": {},
     "output_type": "display_data"
    }
   ],
   "source": [
    "plt.figure(figsize = (12, 6))\n",
    "\n",
    "sns.boxplot(x = df[\"Precio\"], y = df[\"Combustible\"], orient = \"horizontal\")\n",
    "\n",
    "plt.show()\n"
   ]
  },
  {
   "cell_type": "code",
   "execution_count": 27,
   "id": "ec28ef0a",
   "metadata": {},
   "outputs": [
    {
     "data": {
      "application/vnd.plotly.v1+json": {
       "config": {
        "plotlyServerURL": "https://plot.ly"
       },
       "data": [
        {
         "alignmentgroup": "True",
         "hovertemplate": "Marca=%{x}<br>frecuencia=%{y}<extra></extra>",
         "legendgroup": "",
         "marker": {
          "color": "#636efa",
          "pattern": {
           "shape": ""
          }
         },
         "name": "",
         "offsetgroup": "",
         "orientation": "v",
         "showlegend": false,
         "textposition": "auto",
         "type": "bar",
         "x": [
          "BMW",
          "Mercedes-Benz",
          "Audi",
          "Peugeot",
          "Volkswagen",
          "Opel",
          "Ford",
          "Toyota",
          "Citroen",
          "SEAT",
          "Renault",
          "Fiat",
          "Kia",
          "Hyundai",
          "Nissan",
          "Volvo",
          "Land",
          "MINI",
          "Lexus",
          "Jeep",
          "Skoda",
          "Jaguar",
          "Mazda",
          "Dacia",
          "Alfa",
          "Mitsubishi",
          "DS",
          "Cupra",
          "Honda",
          "Suzuki",
          "Porsche",
          "PEUGEOT",
          "MERCEDES-BENZ",
          "VOLKSWAGEN",
          "AUDI",
          "Tesla",
          "SsangYong",
          "Subaru",
          "Infiniti",
          "smart",
          "FORD",
          "Abarth",
          "TOYOTA",
          "CITROEN",
          "RENAULT",
          "OPEL",
          "Chevrolet",
          "NISSAN",
          "KIA",
          "Maserati",
          "VOLVO",
          "FIAT",
          "HYUNDAI",
          "LAND-ROVER",
          "SKODA",
          "JEEP",
          "PORSCHE",
          "Lynk",
          "DFSK",
          "Chrysler",
          "MG"
         ],
         "xaxis": "x",
         "y": [
          19057,
          17188,
          16597,
          16318,
          16136,
          11967,
          11840,
          11258,
          11256,
          11072,
          9189,
          8662,
          7593,
          5860,
          5619,
          5407,
          5167,
          4793,
          3967,
          3789,
          3358,
          3198,
          3171,
          2366,
          2202,
          1857,
          1714,
          1645,
          1544,
          1008,
          964,
          790,
          782,
          779,
          768,
          763,
          706,
          667,
          652,
          644,
          555,
          539,
          530,
          510,
          449,
          445,
          443,
          322,
          293,
          264,
          236,
          236,
          230,
          192,
          174,
          145,
          137,
          135,
          120,
          112,
          109
         ],
         "yaxis": "y"
        }
       ],
       "layout": {
        "barmode": "relative",
        "legend": {
         "tracegroupgap": 0
        },
        "template": {
         "data": {
          "bar": [
           {
            "error_x": {
             "color": "#2a3f5f"
            },
            "error_y": {
             "color": "#2a3f5f"
            },
            "marker": {
             "line": {
              "color": "#E5ECF6",
              "width": 0.5
             },
             "pattern": {
              "fillmode": "overlay",
              "size": 10,
              "solidity": 0.2
             }
            },
            "type": "bar"
           }
          ],
          "barpolar": [
           {
            "marker": {
             "line": {
              "color": "#E5ECF6",
              "width": 0.5
             },
             "pattern": {
              "fillmode": "overlay",
              "size": 10,
              "solidity": 0.2
             }
            },
            "type": "barpolar"
           }
          ],
          "carpet": [
           {
            "aaxis": {
             "endlinecolor": "#2a3f5f",
             "gridcolor": "white",
             "linecolor": "white",
             "minorgridcolor": "white",
             "startlinecolor": "#2a3f5f"
            },
            "baxis": {
             "endlinecolor": "#2a3f5f",
             "gridcolor": "white",
             "linecolor": "white",
             "minorgridcolor": "white",
             "startlinecolor": "#2a3f5f"
            },
            "type": "carpet"
           }
          ],
          "choropleth": [
           {
            "colorbar": {
             "outlinewidth": 0,
             "ticks": ""
            },
            "type": "choropleth"
           }
          ],
          "contour": [
           {
            "colorbar": {
             "outlinewidth": 0,
             "ticks": ""
            },
            "colorscale": [
             [
              0,
              "#0d0887"
             ],
             [
              0.1111111111111111,
              "#46039f"
             ],
             [
              0.2222222222222222,
              "#7201a8"
             ],
             [
              0.3333333333333333,
              "#9c179e"
             ],
             [
              0.4444444444444444,
              "#bd3786"
             ],
             [
              0.5555555555555556,
              "#d8576b"
             ],
             [
              0.6666666666666666,
              "#ed7953"
             ],
             [
              0.7777777777777778,
              "#fb9f3a"
             ],
             [
              0.8888888888888888,
              "#fdca26"
             ],
             [
              1,
              "#f0f921"
             ]
            ],
            "type": "contour"
           }
          ],
          "contourcarpet": [
           {
            "colorbar": {
             "outlinewidth": 0,
             "ticks": ""
            },
            "type": "contourcarpet"
           }
          ],
          "heatmap": [
           {
            "colorbar": {
             "outlinewidth": 0,
             "ticks": ""
            },
            "colorscale": [
             [
              0,
              "#0d0887"
             ],
             [
              0.1111111111111111,
              "#46039f"
             ],
             [
              0.2222222222222222,
              "#7201a8"
             ],
             [
              0.3333333333333333,
              "#9c179e"
             ],
             [
              0.4444444444444444,
              "#bd3786"
             ],
             [
              0.5555555555555556,
              "#d8576b"
             ],
             [
              0.6666666666666666,
              "#ed7953"
             ],
             [
              0.7777777777777778,
              "#fb9f3a"
             ],
             [
              0.8888888888888888,
              "#fdca26"
             ],
             [
              1,
              "#f0f921"
             ]
            ],
            "type": "heatmap"
           }
          ],
          "heatmapgl": [
           {
            "colorbar": {
             "outlinewidth": 0,
             "ticks": ""
            },
            "colorscale": [
             [
              0,
              "#0d0887"
             ],
             [
              0.1111111111111111,
              "#46039f"
             ],
             [
              0.2222222222222222,
              "#7201a8"
             ],
             [
              0.3333333333333333,
              "#9c179e"
             ],
             [
              0.4444444444444444,
              "#bd3786"
             ],
             [
              0.5555555555555556,
              "#d8576b"
             ],
             [
              0.6666666666666666,
              "#ed7953"
             ],
             [
              0.7777777777777778,
              "#fb9f3a"
             ],
             [
              0.8888888888888888,
              "#fdca26"
             ],
             [
              1,
              "#f0f921"
             ]
            ],
            "type": "heatmapgl"
           }
          ],
          "histogram": [
           {
            "marker": {
             "pattern": {
              "fillmode": "overlay",
              "size": 10,
              "solidity": 0.2
             }
            },
            "type": "histogram"
           }
          ],
          "histogram2d": [
           {
            "colorbar": {
             "outlinewidth": 0,
             "ticks": ""
            },
            "colorscale": [
             [
              0,
              "#0d0887"
             ],
             [
              0.1111111111111111,
              "#46039f"
             ],
             [
              0.2222222222222222,
              "#7201a8"
             ],
             [
              0.3333333333333333,
              "#9c179e"
             ],
             [
              0.4444444444444444,
              "#bd3786"
             ],
             [
              0.5555555555555556,
              "#d8576b"
             ],
             [
              0.6666666666666666,
              "#ed7953"
             ],
             [
              0.7777777777777778,
              "#fb9f3a"
             ],
             [
              0.8888888888888888,
              "#fdca26"
             ],
             [
              1,
              "#f0f921"
             ]
            ],
            "type": "histogram2d"
           }
          ],
          "histogram2dcontour": [
           {
            "colorbar": {
             "outlinewidth": 0,
             "ticks": ""
            },
            "colorscale": [
             [
              0,
              "#0d0887"
             ],
             [
              0.1111111111111111,
              "#46039f"
             ],
             [
              0.2222222222222222,
              "#7201a8"
             ],
             [
              0.3333333333333333,
              "#9c179e"
             ],
             [
              0.4444444444444444,
              "#bd3786"
             ],
             [
              0.5555555555555556,
              "#d8576b"
             ],
             [
              0.6666666666666666,
              "#ed7953"
             ],
             [
              0.7777777777777778,
              "#fb9f3a"
             ],
             [
              0.8888888888888888,
              "#fdca26"
             ],
             [
              1,
              "#f0f921"
             ]
            ],
            "type": "histogram2dcontour"
           }
          ],
          "mesh3d": [
           {
            "colorbar": {
             "outlinewidth": 0,
             "ticks": ""
            },
            "type": "mesh3d"
           }
          ],
          "parcoords": [
           {
            "line": {
             "colorbar": {
              "outlinewidth": 0,
              "ticks": ""
             }
            },
            "type": "parcoords"
           }
          ],
          "pie": [
           {
            "automargin": true,
            "type": "pie"
           }
          ],
          "scatter": [
           {
            "fillpattern": {
             "fillmode": "overlay",
             "size": 10,
             "solidity": 0.2
            },
            "type": "scatter"
           }
          ],
          "scatter3d": [
           {
            "line": {
             "colorbar": {
              "outlinewidth": 0,
              "ticks": ""
             }
            },
            "marker": {
             "colorbar": {
              "outlinewidth": 0,
              "ticks": ""
             }
            },
            "type": "scatter3d"
           }
          ],
          "scattercarpet": [
           {
            "marker": {
             "colorbar": {
              "outlinewidth": 0,
              "ticks": ""
             }
            },
            "type": "scattercarpet"
           }
          ],
          "scattergeo": [
           {
            "marker": {
             "colorbar": {
              "outlinewidth": 0,
              "ticks": ""
             }
            },
            "type": "scattergeo"
           }
          ],
          "scattergl": [
           {
            "marker": {
             "colorbar": {
              "outlinewidth": 0,
              "ticks": ""
             }
            },
            "type": "scattergl"
           }
          ],
          "scattermapbox": [
           {
            "marker": {
             "colorbar": {
              "outlinewidth": 0,
              "ticks": ""
             }
            },
            "type": "scattermapbox"
           }
          ],
          "scatterpolar": [
           {
            "marker": {
             "colorbar": {
              "outlinewidth": 0,
              "ticks": ""
             }
            },
            "type": "scatterpolar"
           }
          ],
          "scatterpolargl": [
           {
            "marker": {
             "colorbar": {
              "outlinewidth": 0,
              "ticks": ""
             }
            },
            "type": "scatterpolargl"
           }
          ],
          "scatterternary": [
           {
            "marker": {
             "colorbar": {
              "outlinewidth": 0,
              "ticks": ""
             }
            },
            "type": "scatterternary"
           }
          ],
          "surface": [
           {
            "colorbar": {
             "outlinewidth": 0,
             "ticks": ""
            },
            "colorscale": [
             [
              0,
              "#0d0887"
             ],
             [
              0.1111111111111111,
              "#46039f"
             ],
             [
              0.2222222222222222,
              "#7201a8"
             ],
             [
              0.3333333333333333,
              "#9c179e"
             ],
             [
              0.4444444444444444,
              "#bd3786"
             ],
             [
              0.5555555555555556,
              "#d8576b"
             ],
             [
              0.6666666666666666,
              "#ed7953"
             ],
             [
              0.7777777777777778,
              "#fb9f3a"
             ],
             [
              0.8888888888888888,
              "#fdca26"
             ],
             [
              1,
              "#f0f921"
             ]
            ],
            "type": "surface"
           }
          ],
          "table": [
           {
            "cells": {
             "fill": {
              "color": "#EBF0F8"
             },
             "line": {
              "color": "white"
             }
            },
            "header": {
             "fill": {
              "color": "#C8D4E3"
             },
             "line": {
              "color": "white"
             }
            },
            "type": "table"
           }
          ]
         },
         "layout": {
          "annotationdefaults": {
           "arrowcolor": "#2a3f5f",
           "arrowhead": 0,
           "arrowwidth": 1
          },
          "autotypenumbers": "strict",
          "coloraxis": {
           "colorbar": {
            "outlinewidth": 0,
            "ticks": ""
           }
          },
          "colorscale": {
           "diverging": [
            [
             0,
             "#8e0152"
            ],
            [
             0.1,
             "#c51b7d"
            ],
            [
             0.2,
             "#de77ae"
            ],
            [
             0.3,
             "#f1b6da"
            ],
            [
             0.4,
             "#fde0ef"
            ],
            [
             0.5,
             "#f7f7f7"
            ],
            [
             0.6,
             "#e6f5d0"
            ],
            [
             0.7,
             "#b8e186"
            ],
            [
             0.8,
             "#7fbc41"
            ],
            [
             0.9,
             "#4d9221"
            ],
            [
             1,
             "#276419"
            ]
           ],
           "sequential": [
            [
             0,
             "#0d0887"
            ],
            [
             0.1111111111111111,
             "#46039f"
            ],
            [
             0.2222222222222222,
             "#7201a8"
            ],
            [
             0.3333333333333333,
             "#9c179e"
            ],
            [
             0.4444444444444444,
             "#bd3786"
            ],
            [
             0.5555555555555556,
             "#d8576b"
            ],
            [
             0.6666666666666666,
             "#ed7953"
            ],
            [
             0.7777777777777778,
             "#fb9f3a"
            ],
            [
             0.8888888888888888,
             "#fdca26"
            ],
            [
             1,
             "#f0f921"
            ]
           ],
           "sequentialminus": [
            [
             0,
             "#0d0887"
            ],
            [
             0.1111111111111111,
             "#46039f"
            ],
            [
             0.2222222222222222,
             "#7201a8"
            ],
            [
             0.3333333333333333,
             "#9c179e"
            ],
            [
             0.4444444444444444,
             "#bd3786"
            ],
            [
             0.5555555555555556,
             "#d8576b"
            ],
            [
             0.6666666666666666,
             "#ed7953"
            ],
            [
             0.7777777777777778,
             "#fb9f3a"
            ],
            [
             0.8888888888888888,
             "#fdca26"
            ],
            [
             1,
             "#f0f921"
            ]
           ]
          },
          "colorway": [
           "#636efa",
           "#EF553B",
           "#00cc96",
           "#ab63fa",
           "#FFA15A",
           "#19d3f3",
           "#FF6692",
           "#B6E880",
           "#FF97FF",
           "#FECB52"
          ],
          "font": {
           "color": "#2a3f5f"
          },
          "geo": {
           "bgcolor": "white",
           "lakecolor": "white",
           "landcolor": "#E5ECF6",
           "showlakes": true,
           "showland": true,
           "subunitcolor": "white"
          },
          "hoverlabel": {
           "align": "left"
          },
          "hovermode": "closest",
          "mapbox": {
           "style": "light"
          },
          "paper_bgcolor": "white",
          "plot_bgcolor": "#E5ECF6",
          "polar": {
           "angularaxis": {
            "gridcolor": "white",
            "linecolor": "white",
            "ticks": ""
           },
           "bgcolor": "#E5ECF6",
           "radialaxis": {
            "gridcolor": "white",
            "linecolor": "white",
            "ticks": ""
           }
          },
          "scene": {
           "xaxis": {
            "backgroundcolor": "#E5ECF6",
            "gridcolor": "white",
            "gridwidth": 2,
            "linecolor": "white",
            "showbackground": true,
            "ticks": "",
            "zerolinecolor": "white"
           },
           "yaxis": {
            "backgroundcolor": "#E5ECF6",
            "gridcolor": "white",
            "gridwidth": 2,
            "linecolor": "white",
            "showbackground": true,
            "ticks": "",
            "zerolinecolor": "white"
           },
           "zaxis": {
            "backgroundcolor": "#E5ECF6",
            "gridcolor": "white",
            "gridwidth": 2,
            "linecolor": "white",
            "showbackground": true,
            "ticks": "",
            "zerolinecolor": "white"
           }
          },
          "shapedefaults": {
           "line": {
            "color": "#2a3f5f"
           }
          },
          "ternary": {
           "aaxis": {
            "gridcolor": "white",
            "linecolor": "white",
            "ticks": ""
           },
           "baxis": {
            "gridcolor": "white",
            "linecolor": "white",
            "ticks": ""
           },
           "bgcolor": "#E5ECF6",
           "caxis": {
            "gridcolor": "white",
            "linecolor": "white",
            "ticks": ""
           }
          },
          "title": {
           "x": 0.05
          },
          "xaxis": {
           "automargin": true,
           "gridcolor": "white",
           "linecolor": "white",
           "ticks": "",
           "title": {
            "standoff": 15
           },
           "zerolinecolor": "white",
           "zerolinewidth": 2
          },
          "yaxis": {
           "automargin": true,
           "gridcolor": "white",
           "linecolor": "white",
           "ticks": "",
           "title": {
            "standoff": 15
           },
           "zerolinecolor": "white",
           "zerolinewidth": 2
          }
         }
        },
        "title": {
         "text": "Frecuencia de Categorías"
        },
        "xaxis": {
         "anchor": "y",
         "domain": [
          0,
          1
         ],
         "title": {
          "text": "Marca"
         }
        },
        "yaxis": {
         "anchor": "x",
         "domain": [
          0,
          1
         ],
         "title": {
          "text": "frecuencia"
         }
        }
       }
      },
      "text/html": [
       "<div>                            <div id=\"5268c430-2517-4290-9e56-fb29ac74c0b2\" class=\"plotly-graph-div\" style=\"height:525px; width:100%;\"></div>            <script type=\"text/javascript\">                require([\"plotly\"], function(Plotly) {                    window.PLOTLYENV=window.PLOTLYENV || {};                                    if (document.getElementById(\"5268c430-2517-4290-9e56-fb29ac74c0b2\")) {                    Plotly.newPlot(                        \"5268c430-2517-4290-9e56-fb29ac74c0b2\",                        [{\"alignmentgroup\":\"True\",\"hovertemplate\":\"Marca=%{x}<br>frecuencia=%{y}<extra></extra>\",\"legendgroup\":\"\",\"marker\":{\"color\":\"#636efa\",\"pattern\":{\"shape\":\"\"}},\"name\":\"\",\"offsetgroup\":\"\",\"orientation\":\"v\",\"showlegend\":false,\"textposition\":\"auto\",\"x\":[\"BMW\",\"Mercedes-Benz\",\"Audi\",\"Peugeot\",\"Volkswagen\",\"Opel\",\"Ford\",\"Toyota\",\"Citroen\",\"SEAT\",\"Renault\",\"Fiat\",\"Kia\",\"Hyundai\",\"Nissan\",\"Volvo\",\"Land\",\"MINI\",\"Lexus\",\"Jeep\",\"Skoda\",\"Jaguar\",\"Mazda\",\"Dacia\",\"Alfa\",\"Mitsubishi\",\"DS\",\"Cupra\",\"Honda\",\"Suzuki\",\"Porsche\",\"PEUGEOT\",\"MERCEDES-BENZ\",\"VOLKSWAGEN\",\"AUDI\",\"Tesla\",\"SsangYong\",\"Subaru\",\"Infiniti\",\"smart\",\"FORD\",\"Abarth\",\"TOYOTA\",\"CITROEN\",\"RENAULT\",\"OPEL\",\"Chevrolet\",\"NISSAN\",\"KIA\",\"Maserati\",\"VOLVO\",\"FIAT\",\"HYUNDAI\",\"LAND-ROVER\",\"SKODA\",\"JEEP\",\"PORSCHE\",\"Lynk\",\"DFSK\",\"Chrysler\",\"MG\"],\"xaxis\":\"x\",\"y\":[19057,17188,16597,16318,16136,11967,11840,11258,11256,11072,9189,8662,7593,5860,5619,5407,5167,4793,3967,3789,3358,3198,3171,2366,2202,1857,1714,1645,1544,1008,964,790,782,779,768,763,706,667,652,644,555,539,530,510,449,445,443,322,293,264,236,236,230,192,174,145,137,135,120,112,109],\"yaxis\":\"y\",\"type\":\"bar\"}],                        {\"template\":{\"data\":{\"histogram2dcontour\":[{\"type\":\"histogram2dcontour\",\"colorbar\":{\"outlinewidth\":0,\"ticks\":\"\"},\"colorscale\":[[0.0,\"#0d0887\"],[0.1111111111111111,\"#46039f\"],[0.2222222222222222,\"#7201a8\"],[0.3333333333333333,\"#9c179e\"],[0.4444444444444444,\"#bd3786\"],[0.5555555555555556,\"#d8576b\"],[0.6666666666666666,\"#ed7953\"],[0.7777777777777778,\"#fb9f3a\"],[0.8888888888888888,\"#fdca26\"],[1.0,\"#f0f921\"]]}],\"choropleth\":[{\"type\":\"choropleth\",\"colorbar\":{\"outlinewidth\":0,\"ticks\":\"\"}}],\"histogram2d\":[{\"type\":\"histogram2d\",\"colorbar\":{\"outlinewidth\":0,\"ticks\":\"\"},\"colorscale\":[[0.0,\"#0d0887\"],[0.1111111111111111,\"#46039f\"],[0.2222222222222222,\"#7201a8\"],[0.3333333333333333,\"#9c179e\"],[0.4444444444444444,\"#bd3786\"],[0.5555555555555556,\"#d8576b\"],[0.6666666666666666,\"#ed7953\"],[0.7777777777777778,\"#fb9f3a\"],[0.8888888888888888,\"#fdca26\"],[1.0,\"#f0f921\"]]}],\"heatmap\":[{\"type\":\"heatmap\",\"colorbar\":{\"outlinewidth\":0,\"ticks\":\"\"},\"colorscale\":[[0.0,\"#0d0887\"],[0.1111111111111111,\"#46039f\"],[0.2222222222222222,\"#7201a8\"],[0.3333333333333333,\"#9c179e\"],[0.4444444444444444,\"#bd3786\"],[0.5555555555555556,\"#d8576b\"],[0.6666666666666666,\"#ed7953\"],[0.7777777777777778,\"#fb9f3a\"],[0.8888888888888888,\"#fdca26\"],[1.0,\"#f0f921\"]]}],\"heatmapgl\":[{\"type\":\"heatmapgl\",\"colorbar\":{\"outlinewidth\":0,\"ticks\":\"\"},\"colorscale\":[[0.0,\"#0d0887\"],[0.1111111111111111,\"#46039f\"],[0.2222222222222222,\"#7201a8\"],[0.3333333333333333,\"#9c179e\"],[0.4444444444444444,\"#bd3786\"],[0.5555555555555556,\"#d8576b\"],[0.6666666666666666,\"#ed7953\"],[0.7777777777777778,\"#fb9f3a\"],[0.8888888888888888,\"#fdca26\"],[1.0,\"#f0f921\"]]}],\"contourcarpet\":[{\"type\":\"contourcarpet\",\"colorbar\":{\"outlinewidth\":0,\"ticks\":\"\"}}],\"contour\":[{\"type\":\"contour\",\"colorbar\":{\"outlinewidth\":0,\"ticks\":\"\"},\"colorscale\":[[0.0,\"#0d0887\"],[0.1111111111111111,\"#46039f\"],[0.2222222222222222,\"#7201a8\"],[0.3333333333333333,\"#9c179e\"],[0.4444444444444444,\"#bd3786\"],[0.5555555555555556,\"#d8576b\"],[0.6666666666666666,\"#ed7953\"],[0.7777777777777778,\"#fb9f3a\"],[0.8888888888888888,\"#fdca26\"],[1.0,\"#f0f921\"]]}],\"surface\":[{\"type\":\"surface\",\"colorbar\":{\"outlinewidth\":0,\"ticks\":\"\"},\"colorscale\":[[0.0,\"#0d0887\"],[0.1111111111111111,\"#46039f\"],[0.2222222222222222,\"#7201a8\"],[0.3333333333333333,\"#9c179e\"],[0.4444444444444444,\"#bd3786\"],[0.5555555555555556,\"#d8576b\"],[0.6666666666666666,\"#ed7953\"],[0.7777777777777778,\"#fb9f3a\"],[0.8888888888888888,\"#fdca26\"],[1.0,\"#f0f921\"]]}],\"mesh3d\":[{\"type\":\"mesh3d\",\"colorbar\":{\"outlinewidth\":0,\"ticks\":\"\"}}],\"scatter\":[{\"fillpattern\":{\"fillmode\":\"overlay\",\"size\":10,\"solidity\":0.2},\"type\":\"scatter\"}],\"parcoords\":[{\"type\":\"parcoords\",\"line\":{\"colorbar\":{\"outlinewidth\":0,\"ticks\":\"\"}}}],\"scatterpolargl\":[{\"type\":\"scatterpolargl\",\"marker\":{\"colorbar\":{\"outlinewidth\":0,\"ticks\":\"\"}}}],\"bar\":[{\"error_x\":{\"color\":\"#2a3f5f\"},\"error_y\":{\"color\":\"#2a3f5f\"},\"marker\":{\"line\":{\"color\":\"#E5ECF6\",\"width\":0.5},\"pattern\":{\"fillmode\":\"overlay\",\"size\":10,\"solidity\":0.2}},\"type\":\"bar\"}],\"scattergeo\":[{\"type\":\"scattergeo\",\"marker\":{\"colorbar\":{\"outlinewidth\":0,\"ticks\":\"\"}}}],\"scatterpolar\":[{\"type\":\"scatterpolar\",\"marker\":{\"colorbar\":{\"outlinewidth\":0,\"ticks\":\"\"}}}],\"histogram\":[{\"marker\":{\"pattern\":{\"fillmode\":\"overlay\",\"size\":10,\"solidity\":0.2}},\"type\":\"histogram\"}],\"scattergl\":[{\"type\":\"scattergl\",\"marker\":{\"colorbar\":{\"outlinewidth\":0,\"ticks\":\"\"}}}],\"scatter3d\":[{\"type\":\"scatter3d\",\"line\":{\"colorbar\":{\"outlinewidth\":0,\"ticks\":\"\"}},\"marker\":{\"colorbar\":{\"outlinewidth\":0,\"ticks\":\"\"}}}],\"scattermapbox\":[{\"type\":\"scattermapbox\",\"marker\":{\"colorbar\":{\"outlinewidth\":0,\"ticks\":\"\"}}}],\"scatterternary\":[{\"type\":\"scatterternary\",\"marker\":{\"colorbar\":{\"outlinewidth\":0,\"ticks\":\"\"}}}],\"scattercarpet\":[{\"type\":\"scattercarpet\",\"marker\":{\"colorbar\":{\"outlinewidth\":0,\"ticks\":\"\"}}}],\"carpet\":[{\"aaxis\":{\"endlinecolor\":\"#2a3f5f\",\"gridcolor\":\"white\",\"linecolor\":\"white\",\"minorgridcolor\":\"white\",\"startlinecolor\":\"#2a3f5f\"},\"baxis\":{\"endlinecolor\":\"#2a3f5f\",\"gridcolor\":\"white\",\"linecolor\":\"white\",\"minorgridcolor\":\"white\",\"startlinecolor\":\"#2a3f5f\"},\"type\":\"carpet\"}],\"table\":[{\"cells\":{\"fill\":{\"color\":\"#EBF0F8\"},\"line\":{\"color\":\"white\"}},\"header\":{\"fill\":{\"color\":\"#C8D4E3\"},\"line\":{\"color\":\"white\"}},\"type\":\"table\"}],\"barpolar\":[{\"marker\":{\"line\":{\"color\":\"#E5ECF6\",\"width\":0.5},\"pattern\":{\"fillmode\":\"overlay\",\"size\":10,\"solidity\":0.2}},\"type\":\"barpolar\"}],\"pie\":[{\"automargin\":true,\"type\":\"pie\"}]},\"layout\":{\"autotypenumbers\":\"strict\",\"colorway\":[\"#636efa\",\"#EF553B\",\"#00cc96\",\"#ab63fa\",\"#FFA15A\",\"#19d3f3\",\"#FF6692\",\"#B6E880\",\"#FF97FF\",\"#FECB52\"],\"font\":{\"color\":\"#2a3f5f\"},\"hovermode\":\"closest\",\"hoverlabel\":{\"align\":\"left\"},\"paper_bgcolor\":\"white\",\"plot_bgcolor\":\"#E5ECF6\",\"polar\":{\"bgcolor\":\"#E5ECF6\",\"angularaxis\":{\"gridcolor\":\"white\",\"linecolor\":\"white\",\"ticks\":\"\"},\"radialaxis\":{\"gridcolor\":\"white\",\"linecolor\":\"white\",\"ticks\":\"\"}},\"ternary\":{\"bgcolor\":\"#E5ECF6\",\"aaxis\":{\"gridcolor\":\"white\",\"linecolor\":\"white\",\"ticks\":\"\"},\"baxis\":{\"gridcolor\":\"white\",\"linecolor\":\"white\",\"ticks\":\"\"},\"caxis\":{\"gridcolor\":\"white\",\"linecolor\":\"white\",\"ticks\":\"\"}},\"coloraxis\":{\"colorbar\":{\"outlinewidth\":0,\"ticks\":\"\"}},\"colorscale\":{\"sequential\":[[0.0,\"#0d0887\"],[0.1111111111111111,\"#46039f\"],[0.2222222222222222,\"#7201a8\"],[0.3333333333333333,\"#9c179e\"],[0.4444444444444444,\"#bd3786\"],[0.5555555555555556,\"#d8576b\"],[0.6666666666666666,\"#ed7953\"],[0.7777777777777778,\"#fb9f3a\"],[0.8888888888888888,\"#fdca26\"],[1.0,\"#f0f921\"]],\"sequentialminus\":[[0.0,\"#0d0887\"],[0.1111111111111111,\"#46039f\"],[0.2222222222222222,\"#7201a8\"],[0.3333333333333333,\"#9c179e\"],[0.4444444444444444,\"#bd3786\"],[0.5555555555555556,\"#d8576b\"],[0.6666666666666666,\"#ed7953\"],[0.7777777777777778,\"#fb9f3a\"],[0.8888888888888888,\"#fdca26\"],[1.0,\"#f0f921\"]],\"diverging\":[[0,\"#8e0152\"],[0.1,\"#c51b7d\"],[0.2,\"#de77ae\"],[0.3,\"#f1b6da\"],[0.4,\"#fde0ef\"],[0.5,\"#f7f7f7\"],[0.6,\"#e6f5d0\"],[0.7,\"#b8e186\"],[0.8,\"#7fbc41\"],[0.9,\"#4d9221\"],[1,\"#276419\"]]},\"xaxis\":{\"gridcolor\":\"white\",\"linecolor\":\"white\",\"ticks\":\"\",\"title\":{\"standoff\":15},\"zerolinecolor\":\"white\",\"automargin\":true,\"zerolinewidth\":2},\"yaxis\":{\"gridcolor\":\"white\",\"linecolor\":\"white\",\"ticks\":\"\",\"title\":{\"standoff\":15},\"zerolinecolor\":\"white\",\"automargin\":true,\"zerolinewidth\":2},\"scene\":{\"xaxis\":{\"backgroundcolor\":\"#E5ECF6\",\"gridcolor\":\"white\",\"linecolor\":\"white\",\"showbackground\":true,\"ticks\":\"\",\"zerolinecolor\":\"white\",\"gridwidth\":2},\"yaxis\":{\"backgroundcolor\":\"#E5ECF6\",\"gridcolor\":\"white\",\"linecolor\":\"white\",\"showbackground\":true,\"ticks\":\"\",\"zerolinecolor\":\"white\",\"gridwidth\":2},\"zaxis\":{\"backgroundcolor\":\"#E5ECF6\",\"gridcolor\":\"white\",\"linecolor\":\"white\",\"showbackground\":true,\"ticks\":\"\",\"zerolinecolor\":\"white\",\"gridwidth\":2}},\"shapedefaults\":{\"line\":{\"color\":\"#2a3f5f\"}},\"annotationdefaults\":{\"arrowcolor\":\"#2a3f5f\",\"arrowhead\":0,\"arrowwidth\":1},\"geo\":{\"bgcolor\":\"white\",\"landcolor\":\"#E5ECF6\",\"subunitcolor\":\"white\",\"showland\":true,\"showlakes\":true,\"lakecolor\":\"white\"},\"title\":{\"x\":0.05},\"mapbox\":{\"style\":\"light\"}}},\"xaxis\":{\"anchor\":\"y\",\"domain\":[0.0,1.0],\"title\":{\"text\":\"Marca\"}},\"yaxis\":{\"anchor\":\"x\",\"domain\":[0.0,1.0],\"title\":{\"text\":\"frecuencia\"}},\"legend\":{\"tracegroupgap\":0},\"title\":{\"text\":\"Frecuencia de Categor\\u00edas\"},\"barmode\":\"relative\"},                        {\"responsive\": true}                    ).then(function(){\n",
       "                            \n",
       "var gd = document.getElementById('5268c430-2517-4290-9e56-fb29ac74c0b2');\n",
       "var x = new MutationObserver(function (mutations, observer) {{\n",
       "        var display = window.getComputedStyle(gd).display;\n",
       "        if (!display || display === 'none') {{\n",
       "            console.log([gd, 'removed!']);\n",
       "            Plotly.purge(gd);\n",
       "            observer.disconnect();\n",
       "        }}\n",
       "}});\n",
       "\n",
       "// Listen for the removal of the full notebook cells\n",
       "var notebookContainer = gd.closest('#notebook-container');\n",
       "if (notebookContainer) {{\n",
       "    x.observe(notebookContainer, {childList: true});\n",
       "}}\n",
       "\n",
       "// Listen for the clearing of the current output cell\n",
       "var outputEl = gd.closest('.output');\n",
       "if (outputEl) {{\n",
       "    x.observe(outputEl, {childList: true});\n",
       "}}\n",
       "\n",
       "                        })                };                });            </script>        </div>"
      ]
     },
     "metadata": {},
     "output_type": "display_data"
    }
   ],
   "source": [
    "frecuencia_categorias = df_categorico['Marca'].value_counts().reset_index()\n",
    "frecuencia_categorias.columns = ['Marca', 'frecuencia']\n",
    "frecuencia_categorias = frecuencia_categorias[frecuencia_categorias['frecuencia'] > 100]\n",
    "fig = px.bar(frecuencia_categorias, x='Marca', y='frecuencia', title='Frecuencia de Categorías')\n",
    "fig.show()"
   ]
  },
  {
   "cell_type": "code",
   "execution_count": 28,
   "id": "1e15f219",
   "metadata": {},
   "outputs": [
    {
     "data": {
      "image/png": "[encoded data removed]",
      "text/plain": [
       "<Figure size 1200x600 with 1 Axes>"
      ]
     },
     "metadata": {},
     "output_type": "display_data"
    }
   ],
   "source": [
    "# Calcular la frecuencia de cada categoría\n",
    "frecuencia_categorias = df_categorico['Marca'].value_counts().reset_index()\n",
    "frecuencia_categorias.columns = ['Marca', 'frecuencia']\n",
    "\n",
    "# Filtrar frecuencias mayores de 100\n",
    "frecuencia_categorias = frecuencia_categorias[frecuencia_categorias['frecuencia'] > 100]\n",
    "\n",
    "# Crear un gráfico de barras con Seaborn\n",
    "plt.figure(figsize=(12, 6))\n",
    "ax = sns.barplot(x='Marca', y='frecuencia', data=frecuencia_categorias)\n",
    "plt.title('Frecuencia de Categorías (Frecuencia > 100)')\n",
    "\n",
    "# Rotar los nombres de las categorías en el eje x\n",
    "ax.set_xticklabels(ax.get_xticklabels(), rotation=90, ha='right')\n",
    "\n",
    "# Agregar interactividad con mplcursors\n",
    "cursor = mplcursors.cursor(hover=True)\n",
    "cursor.connect(\"add\", lambda sel: sel.annotation.set_text(f\"Frecuencia: {sel.target[1]}\"))\n",
    "\n",
    "plt.show()"
   ]
  },
  {
   "cell_type": "code",
   "execution_count": 29,
   "id": "e7bcf6cd",
   "metadata": {},
   "outputs": [
    {
     "data": {
      "image/png": "[encoded data removed]",
      "text/plain": [
       "<Figure size 1200x600 with 1 Axes>"
      ]
     },
     "metadata": {},
     "output_type": "display_data"
    }
   ],
   "source": [
    "media_precios_por_provincia = df.groupby('Provincia')['Precio'].mean()\n",
    "\n",
    "# Crear un gráfico de barras para visualizar la media de precios por provincia\n",
    "plt.figure(figsize=(12, 6))\n",
    "media_precios_por_provincia.plot(kind='bar')\n",
    "plt.xlabel('Provincia')\n",
    "plt.ylabel('Media de Precios')\n",
    "plt.title('Media de Precios por Provincia')\n",
    "plt.show()"
   ]
  },
  {
   "cell_type": "code",
   "execution_count": 30,
   "id": "160b9777",
   "metadata": {},
   "outputs": [
    {
     "data": {
      "image/png": "[encoded data removed]",
      "text/plain": [
       "<Figure size 1500x600 with 1 Axes>"
      ]
     },
     "metadata": {},
     "output_type": "display_data"
    }
   ],
   "source": [
    "plt.figure(figsize=(15, 6))\n",
    "sns.countplot(data=df, x='Año', palette='Set1')\n",
    "plt.xlabel('Año')\n",
    "plt.ylabel('Número de Coches')\n",
    "plt.title('Distribución de Coches por Año')\n",
    "plt.xticks(rotation=45)\n",
    "plt.show()"
   ]
  },
  {
   "cell_type": "code",
   "execution_count": 31,
   "id": "d1a361ef",
   "metadata": {},
   "outputs": [],
   "source": [
    "# Funcion de codificación para las columnas categoricas y paso a numericas.\n",
    "def convertir_categoricas_a_numericas(df):\n",
    "    df_1 = df_categorico.copy()  # Crear una copia del DataFrame para no modificar el original\n",
    "    \n",
    "    # Obtener las columnas categóricas\n",
    "    columnas_categoricas = df_1.select_dtypes(include=['object']).columns.tolist()\n",
    "    \n",
    "    # Aplicar LabelEncoder a las columnas categóricas\n",
    "    label_encoder = LabelEncoder()\n",
    "    for columna in columnas_categoricas:\n",
    "        df_1[columna] = label_encoder.fit_transform(df_1[columna])\n",
    "    \n",
    "    return df_1"
   ]
  },
  {
   "cell_type": "code",
   "execution_count": 32,
   "id": "6391b52e",
   "metadata": {},
   "outputs": [],
   "source": [
    "# Guardamos el codificador para poder acceder a el si necesitamos codificar mas datos.\n",
    "\n",
    "with open('encoder.pkl', 'wb') as file:\n",
    "    pickle.dump(convertir_categoricas_a_numericas, file)"
   ]
  },
  {
   "cell_type": "code",
   "execution_count": 33,
   "id": "80c1773d",
   "metadata": {},
   "outputs": [],
   "source": [
    "df_2 = convertir_categoricas_a_numericas(df)"
   ]
  },
  {
   "cell_type": "code",
   "execution_count": 34,
   "id": "7af01f32",
   "metadata": {},
   "outputs": [],
   "source": [
    "df_final = pd.concat([df_2, df_numerico], axis=1)"
   ]
  },
  {
   "cell_type": "code",
   "execution_count": 35,
   "id": "3f415636",
   "metadata": {},
   "outputs": [
    {
     "data": {
      "text/html": [
       "<div>\n",
       "<style scoped>\n",
       "    .dataframe tbody tr th:only-of-type {\n",
       "        vertical-align: middle;\n",
       "    }\n",
       "\n",
       "    .dataframe tbody tr th {\n",
       "        vertical-align: top;\n",
       "    }\n",
       "\n",
       "    .dataframe thead th {\n",
       "        text-align: right;\n",
       "    }\n",
       "</style>\n",
       "<table border=\"1\" class=\"dataframe\">\n",
       "  <thead>\n",
       "    <tr style=\"text-align: right;\">\n",
       "      <th></th>\n",
       "      <th>Marca</th>\n",
       "      <th>Modelo</th>\n",
       "      <th>Combustible</th>\n",
       "      <th>Provincia</th>\n",
       "      <th>Cv</th>\n",
       "      <th>Año</th>\n",
       "      <th>Kms</th>\n",
       "      <th>Precio</th>\n",
       "    </tr>\n",
       "  </thead>\n",
       "  <tbody>\n",
       "    <tr>\n",
       "      <th>0</th>\n",
       "      <td>48</td>\n",
       "      <td>11332</td>\n",
       "      <td>0</td>\n",
       "      <td>7</td>\n",
       "      <td>75.0</td>\n",
       "      <td>2023</td>\n",
       "      <td>144.000</td>\n",
       "      <td>6.999</td>\n",
       "    </tr>\n",
       "    <tr>\n",
       "      <th>1</th>\n",
       "      <td>48</td>\n",
       "      <td>11316</td>\n",
       "      <td>0</td>\n",
       "      <td>7</td>\n",
       "      <td>80.0</td>\n",
       "      <td>2023</td>\n",
       "      <td>144.000</td>\n",
       "      <td>7.299</td>\n",
       "    </tr>\n",
       "    <tr>\n",
       "      <th>3</th>\n",
       "      <td>29</td>\n",
       "      <td>4802</td>\n",
       "      <td>3</td>\n",
       "      <td>52</td>\n",
       "      <td>8.0</td>\n",
       "      <td>2023</td>\n",
       "      <td>100.000</td>\n",
       "      <td>8.990</td>\n",
       "    </tr>\n",
       "    <tr>\n",
       "      <th>4</th>\n",
       "      <td>38</td>\n",
       "      <td>20043</td>\n",
       "      <td>8</td>\n",
       "      <td>49</td>\n",
       "      <td>75.0</td>\n",
       "      <td>2022</td>\n",
       "      <td>884.000</td>\n",
       "      <td>9.990</td>\n",
       "    </tr>\n",
       "    <tr>\n",
       "      <th>5</th>\n",
       "      <td>109</td>\n",
       "      <td>532</td>\n",
       "      <td>8</td>\n",
       "      <td>32</td>\n",
       "      <td>110.0</td>\n",
       "      <td>2022</td>\n",
       "      <td>120.000</td>\n",
       "      <td>10.499</td>\n",
       "    </tr>\n",
       "    <tr>\n",
       "      <th>...</th>\n",
       "      <td>...</td>\n",
       "      <td>...</td>\n",
       "      <td>...</td>\n",
       "      <td>...</td>\n",
       "      <td>...</td>\n",
       "      <td>...</td>\n",
       "      <td>...</td>\n",
       "      <td>...</td>\n",
       "    </tr>\n",
       "    <tr>\n",
       "      <th>245425</th>\n",
       "      <td>54</td>\n",
       "      <td>14081</td>\n",
       "      <td>0</td>\n",
       "      <td>26</td>\n",
       "      <td>136.0</td>\n",
       "      <td>2019</td>\n",
       "      <td>101.511</td>\n",
       "      <td>20.990</td>\n",
       "    </tr>\n",
       "    <tr>\n",
       "      <th>245426</th>\n",
       "      <td>119</td>\n",
       "      <td>4897</td>\n",
       "      <td>8</td>\n",
       "      <td>26</td>\n",
       "      <td>110.0</td>\n",
       "      <td>2021</td>\n",
       "      <td>61.664</td>\n",
       "      <td>19.540</td>\n",
       "    </tr>\n",
       "    <tr>\n",
       "      <th>245427</th>\n",
       "      <td>4</td>\n",
       "      <td>17428</td>\n",
       "      <td>0</td>\n",
       "      <td>34</td>\n",
       "      <td>116.0</td>\n",
       "      <td>2022</td>\n",
       "      <td>26.270</td>\n",
       "      <td>31.000</td>\n",
       "    </tr>\n",
       "    <tr>\n",
       "      <th>245428</th>\n",
       "      <td>122</td>\n",
       "      <td>14093</td>\n",
       "      <td>8</td>\n",
       "      <td>32</td>\n",
       "      <td>149.0</td>\n",
       "      <td>2021</td>\n",
       "      <td>25.972</td>\n",
       "      <td>25.500</td>\n",
       "    </tr>\n",
       "    <tr>\n",
       "      <th>245429</th>\n",
       "      <td>4</td>\n",
       "      <td>4156</td>\n",
       "      <td>8</td>\n",
       "      <td>35</td>\n",
       "      <td>450.0</td>\n",
       "      <td>2018</td>\n",
       "      <td>89.000</td>\n",
       "      <td>59.900</td>\n",
       "    </tr>\n",
       "  </tbody>\n",
       "</table>\n",
       "<p>239965 rows × 8 columns</p>\n",
       "</div>"
      ],
      "text/plain": [
       "        Marca  Modelo  Combustible  Provincia     Cv   Año      Kms  Precio\n",
       "0          48   11332            0          7   75.0  2023  144.000   6.999\n",
       "1          48   11316            0          7   80.0  2023  144.000   7.299\n",
       "3          29    4802            3         52    8.0  2023  100.000   8.990\n",
       "4          38   20043            8         49   75.0  2022  884.000   9.990\n",
       "5         109     532            8         32  110.0  2022  120.000  10.499\n",
       "...       ...     ...          ...        ...    ...   ...      ...     ...\n",
       "245425     54   14081            0         26  136.0  2019  101.511  20.990\n",
       "245426    119    4897            8         26  110.0  2021   61.664  19.540\n",
       "245427      4   17428            0         34  116.0  2022   26.270  31.000\n",
       "245428    122   14093            8         32  149.0  2021   25.972  25.500\n",
       "245429      4    4156            8         35  450.0  2018   89.000  59.900\n",
       "\n",
       "[239965 rows x 8 columns]"
      ]
     },
     "execution_count": 35,
     "metadata": {},
     "output_type": "execute_result"
    }
   ],
   "source": [
    "# Una vez codificadas las columnas categóricas y concatenadas a las numéricas conseguimos un DataFrame de columnas \n",
    "# únicamente numéricas que será el que utilizaremos para entrenamiento y validación.\n",
    "df_final"
   ]
  },
  {
   "cell_type": "code",
   "execution_count": 36,
   "id": "c6cecccf",
   "metadata": {},
   "outputs": [],
   "source": [
    "df_final.to_csv('final.csv', index = False)"
   ]
  },
  {
   "cell_type": "code",
   "execution_count": 37,
   "id": "5629a718",
   "metadata": {},
   "outputs": [
    {
     "data": {
      "text/plain": [
       "Marca          0\n",
       "Modelo         0\n",
       "Combustible    0\n",
       "Provincia      0\n",
       "Cv             0\n",
       "Año            0\n",
       "Kms            0\n",
       "Precio         0\n",
       "dtype: int64"
      ]
     },
     "execution_count": 37,
     "metadata": {},
     "output_type": "execute_result"
    }
   ],
   "source": [
    "df_final.isna().sum()"
   ]
  },
  {
   "cell_type": "code",
   "execution_count": 38,
   "id": "79f1dff5",
   "metadata": {},
   "outputs": [],
   "source": [
    "train, test = train_test_split(df_final, test_size=0.3, random_state=42)"
   ]
  },
  {
   "cell_type": "code",
   "execution_count": 39,
   "id": "c98cc372",
   "metadata": {},
   "outputs": [],
   "source": [
    "train.to_csv('train.csv', index = False)"
   ]
  },
  {
   "cell_type": "code",
   "execution_count": 40,
   "id": "85ad54dd",
   "metadata": {},
   "outputs": [],
   "source": [
    "test.to_csv('test.csv', index = False)"
   ]
  },
  {
   "cell_type": "code",
   "execution_count": 41,
   "id": "d16df755",
   "metadata": {},
   "outputs": [
    {
     "data": {
      "text/html": [
       "<div>\n",
       "<style scoped>\n",
       "    .dataframe tbody tr th:only-of-type {\n",
       "        vertical-align: middle;\n",
       "    }\n",
       "\n",
       "    .dataframe tbody tr th {\n",
       "        vertical-align: top;\n",
       "    }\n",
       "\n",
       "    .dataframe thead th {\n",
       "        text-align: right;\n",
       "    }\n",
       "</style>\n",
       "<table border=\"1\" class=\"dataframe\">\n",
       "  <thead>\n",
       "    <tr style=\"text-align: right;\">\n",
       "      <th></th>\n",
       "      <th>count</th>\n",
       "      <th>mean</th>\n",
       "      <th>std</th>\n",
       "      <th>min</th>\n",
       "      <th>25%</th>\n",
       "      <th>50%</th>\n",
       "      <th>75%</th>\n",
       "      <th>max</th>\n",
       "    </tr>\n",
       "  </thead>\n",
       "  <tbody>\n",
       "    <tr>\n",
       "      <th>Marca</th>\n",
       "      <td>167975.0</td>\n",
       "      <td>79.913011</td>\n",
       "      <td>43.770800</td>\n",
       "      <td>0.0</td>\n",
       "      <td>48.000</td>\n",
       "      <td>95.000</td>\n",
       "      <td>115.000</td>\n",
       "      <td>145.0</td>\n",
       "    </tr>\n",
       "    <tr>\n",
       "      <th>Modelo</th>\n",
       "      <td>167975.0</td>\n",
       "      <td>11889.199809</td>\n",
       "      <td>7262.206889</td>\n",
       "      <td>1.0</td>\n",
       "      <td>5678.500</td>\n",
       "      <td>11633.000</td>\n",
       "      <td>18306.000</td>\n",
       "      <td>24586.0</td>\n",
       "    </tr>\n",
       "    <tr>\n",
       "      <th>Combustible</th>\n",
       "      <td>167975.0</td>\n",
       "      <td>3.431898</td>\n",
       "      <td>3.804583</td>\n",
       "      <td>0.0</td>\n",
       "      <td>0.000</td>\n",
       "      <td>2.000</td>\n",
       "      <td>8.000</td>\n",
       "      <td>11.0</td>\n",
       "    </tr>\n",
       "    <tr>\n",
       "      <th>Provincia</th>\n",
       "      <td>167975.0</td>\n",
       "      <td>28.373454</td>\n",
       "      <td>16.242273</td>\n",
       "      <td>0.0</td>\n",
       "      <td>11.000</td>\n",
       "      <td>32.000</td>\n",
       "      <td>43.000</td>\n",
       "      <td>53.0</td>\n",
       "    </tr>\n",
       "    <tr>\n",
       "      <th>Cv</th>\n",
       "      <td>167975.0</td>\n",
       "      <td>150.308294</td>\n",
       "      <td>62.210439</td>\n",
       "      <td>1.0</td>\n",
       "      <td>110.000</td>\n",
       "      <td>136.000</td>\n",
       "      <td>179.000</td>\n",
       "      <td>1000.0</td>\n",
       "    </tr>\n",
       "    <tr>\n",
       "      <th>Año</th>\n",
       "      <td>167975.0</td>\n",
       "      <td>2017.405156</td>\n",
       "      <td>4.309204</td>\n",
       "      <td>1979.0</td>\n",
       "      <td>2015.000</td>\n",
       "      <td>2018.000</td>\n",
       "      <td>2021.000</td>\n",
       "      <td>2023.0</td>\n",
       "    </tr>\n",
       "    <tr>\n",
       "      <th>Kms</th>\n",
       "      <td>167975.0</td>\n",
       "      <td>81.762825</td>\n",
       "      <td>63.484817</td>\n",
       "      <td>0.0</td>\n",
       "      <td>35.356</td>\n",
       "      <td>73.084</td>\n",
       "      <td>114.867</td>\n",
       "      <td>998.0</td>\n",
       "    </tr>\n",
       "    <tr>\n",
       "      <th>Precio</th>\n",
       "      <td>167975.0</td>\n",
       "      <td>20.877531</td>\n",
       "      <td>12.090097</td>\n",
       "      <td>1.0</td>\n",
       "      <td>12.900</td>\n",
       "      <td>18.900</td>\n",
       "      <td>26.990</td>\n",
       "      <td>675.0</td>\n",
       "    </tr>\n",
       "  </tbody>\n",
       "</table>\n",
       "</div>"
      ],
      "text/plain": [
       "                count          mean          std     min       25%        50%  \\\n",
       "Marca        167975.0     79.913011    43.770800     0.0    48.000     95.000   \n",
       "Modelo       167975.0  11889.199809  7262.206889     1.0  5678.500  11633.000   \n",
       "Combustible  167975.0      3.431898     3.804583     0.0     0.000      2.000   \n",
       "Provincia    167975.0     28.373454    16.242273     0.0    11.000     32.000   \n",
       "Cv           167975.0    150.308294    62.210439     1.0   110.000    136.000   \n",
       "Año          167975.0   2017.405156     4.309204  1979.0  2015.000   2018.000   \n",
       "Kms          167975.0     81.762825    63.484817     0.0    35.356     73.084   \n",
       "Precio       167975.0     20.877531    12.090097     1.0    12.900     18.900   \n",
       "\n",
       "                   75%      max  \n",
       "Marca          115.000    145.0  \n",
       "Modelo       18306.000  24586.0  \n",
       "Combustible      8.000     11.0  \n",
       "Provincia       43.000     53.0  \n",
       "Cv             179.000   1000.0  \n",
       "Año           2021.000   2023.0  \n",
       "Kms            114.867    998.0  \n",
       "Precio          26.990    675.0  "
      ]
     },
     "execution_count": 41,
     "metadata": {},
     "output_type": "execute_result"
    }
   ],
   "source": [
    "train.describe().transpose()"
   ]
  },
  {
   "cell_type": "markdown",
   "id": "b947f90f",
   "metadata": {},
   "source": [
    "#### Veamos la matriz de correlación y así podremos analizar la relación entre las columnas\n"
   ]
  },
  {
   "cell_type": "code",
   "execution_count": 42,
   "id": "a83c2daa",
   "metadata": {},
   "outputs": [
    {
     "data": {
      "image/png": "[encoded data removed]",
      "text/plain": [
       "<Figure size 800x600 with 2 Axes>"
      ]
     },
     "metadata": {},
     "output_type": "display_data"
    }
   ],
   "source": [
    "plt.figure(figsize=(8,6))\n",
    "plt.tight_layout(pad=2.0)\n",
    "\n",
    "# Trazamos la correlación entre las diferentes columnas\n",
    "corr_matrix = train.corr().round(2)\n",
    "sns.heatmap(corr_matrix, annot=True, cmap=\"Blues\", linewidths=0.2, fmt=\".2g\", vmin=-1, vmax=1)\n",
    "plt.title(\"Pearson Correlation Heatmap\")\n",
    "\n",
    "# Mostramos el gáfico\n",
    "plt.show()"
   ]
  },
  {
   "cell_type": "markdown",
   "id": "beb9375e",
   "metadata": {},
   "source": [
    "#### Vamos a realizar una regresión en la que podremos comprobar si el modelo óptimo nos permite predecir con seguridad el precio que tendrá un nuevo coche según sus parámetros. para ello, intentaremos elegir el mejor modelo de regresión. "
   ]
  },
  {
   "cell_type": "code",
   "execution_count": 43,
   "id": "effbdf6f",
   "metadata": {},
   "outputs": [],
   "source": [
    "modelos1 = [#LinearRegression(), \n",
    "           KNeighborsRegressor(), \n",
    "           #RadiusNeighborsRegressor(), \n",
    "           DecisionTreeRegressor(),\n",
    "           RandomForestRegressor(), \n",
    "           #SVR(), \n",
    "           #AdaBoostRegressor(), \n",
    "           GradientBoostingRegressor()\n",
    "          ]"
   ]
  },
  {
   "cell_type": "code",
   "execution_count": 44,
   "id": "b81407d3",
   "metadata": {},
   "outputs": [
    {
     "name": "stdout",
     "output_type": "stream",
     "text": [
      "CPU times: total: 59.6 s\n",
      "Wall time: 1min 1s\n"
     ]
    },
    {
     "data": {
      "text/html": [
       "<div>\n",
       "<style scoped>\n",
       "    .dataframe tbody tr th:only-of-type {\n",
       "        vertical-align: middle;\n",
       "    }\n",
       "\n",
       "    .dataframe tbody tr th {\n",
       "        vertical-align: top;\n",
       "    }\n",
       "\n",
       "    .dataframe thead th {\n",
       "        text-align: right;\n",
       "    }\n",
       "</style>\n",
       "<table border=\"1\" class=\"dataframe\">\n",
       "  <thead>\n",
       "    <tr style=\"text-align: right;\">\n",
       "      <th></th>\n",
       "      <th>name</th>\n",
       "      <th>model</th>\n",
       "      <th>mae</th>\n",
       "      <th>mse</th>\n",
       "      <th>r2</th>\n",
       "    </tr>\n",
       "  </thead>\n",
       "  <tbody>\n",
       "    <tr>\n",
       "      <th>2</th>\n",
       "      <td>RandomForestRegressor()</td>\n",
       "      <td>(DecisionTreeRegressor(max_features=1.0, rando...</td>\n",
       "      <td>0.726064</td>\n",
       "      <td>6.570953</td>\n",
       "      <td>0.950420</td>\n",
       "    </tr>\n",
       "    <tr>\n",
       "      <th>1</th>\n",
       "      <td>DecisionTreeRegressor()</td>\n",
       "      <td>DecisionTreeRegressor()</td>\n",
       "      <td>0.721291</td>\n",
       "      <td>15.487249</td>\n",
       "      <td>0.883143</td>\n",
       "    </tr>\n",
       "    <tr>\n",
       "      <th>0</th>\n",
       "      <td>KNeighborsRegressor()</td>\n",
       "      <td>KNeighborsRegressor()</td>\n",
       "      <td>2.147932</td>\n",
       "      <td>20.989965</td>\n",
       "      <td>0.841623</td>\n",
       "    </tr>\n",
       "    <tr>\n",
       "      <th>3</th>\n",
       "      <td>GradientBoostingRegressor()</td>\n",
       "      <td>([DecisionTreeRegressor(criterion='friedman_ms...</td>\n",
       "      <td>2.912021</td>\n",
       "      <td>22.674793</td>\n",
       "      <td>0.828911</td>\n",
       "    </tr>\n",
       "  </tbody>\n",
       "</table>\n",
       "</div>"
      ],
      "text/plain": [
       "                          name  \\\n",
       "2      RandomForestRegressor()   \n",
       "1      DecisionTreeRegressor()   \n",
       "0        KNeighborsRegressor()   \n",
       "3  GradientBoostingRegressor()   \n",
       "\n",
       "                                               model       mae        mse  \\\n",
       "2  (DecisionTreeRegressor(max_features=1.0, rando...  0.726064   6.570953   \n",
       "1                            DecisionTreeRegressor()  0.721291  15.487249   \n",
       "0                              KNeighborsRegressor()  2.147932  20.989965   \n",
       "3  ([DecisionTreeRegressor(criterion='friedman_ms...  2.912021  22.674793   \n",
       "\n",
       "         r2  \n",
       "2  0.950420  \n",
       "1  0.883143  \n",
       "0  0.841623  \n",
       "3  0.828911  "
      ]
     },
     "execution_count": 44,
     "metadata": {},
     "output_type": "execute_result"
    }
   ],
   "source": [
    "%%time\n",
    "X = train.drop([\"Precio\"], axis = 1)\n",
    "y = np.array(train[\"Precio\"]).reshape(-1 , 1)\n",
    "\n",
    "x_scaler = MinMaxScaler()\n",
    "X = x_scaler.fit_transform(X)\n",
    "\n",
    "y_scaler = MinMaxScaler()\n",
    "y = y_scaler.fit_transform(y)\n",
    "\n",
    "X_train, X_test, y_train, y_test = train_test_split(X, y, test_size = 0.2, random_state = 42)\n",
    "\n",
    "datos_modelos1 = list()\n",
    "\n",
    "for model in modelos1:\n",
    "    \n",
    "    model.fit(X_train, y_train)\n",
    "    yhat = model.predict(X_test)\n",
    "    \n",
    "    y_test_inv = y_scaler.inverse_transform(y_test.reshape(-1, 1))\n",
    "    yhat_inv = y_scaler.inverse_transform(yhat.reshape(-1, 1))\n",
    "    \n",
    "    # Metricas\n",
    "    mae = mean_absolute_error(y_test_inv, yhat_inv)\n",
    "    mse = mean_squared_error(y_test_inv, yhat_inv)\n",
    "    r2 = r2_score(y_test_inv, yhat_inv)\n",
    "    \n",
    "    datos_modelos1.append([str(model), model, mae, mse, r2])\n",
    "    \n",
    "df_modelo1 = pd.DataFrame(data = datos_modelos1, columns = [\"name\", \"model\", \"mae\", \"mse\", \"r2\"])\n",
    "\n",
    "df_modelo1.sort_values(\"r2\", ascending = False)\n",
    "\n",
    "with open('encoder.pkl', 'wb') as file:\n",
    "    pickle.dump(convertir_categoricas_a_numericas, file)\n"
   ]
  },
  {
   "cell_type": "code",
   "execution_count": null,
   "id": "dc63bff8",
   "metadata": {},
   "outputs": [],
   "source": []
  },
  {
   "cell_type": "code",
   "execution_count": 45,
   "id": "944ef20e",
   "metadata": {},
   "outputs": [],
   "source": [
    "modelos2 = [LinearRegression(), \n",
    "           #KNeighborsRegressor(),  \n",
    "           #DecisionTreeRegressor(),\n",
    "           #RandomForestRegressor(),  \n",
    "           #AdaBoostRegressor(), \n",
    "           GradientBoostingRegressor()\n",
    "          ]"
   ]
  },
  {
   "cell_type": "code",
   "execution_count": 46,
   "id": "59c47a80",
   "metadata": {},
   "outputs": [
    {
     "data": {
      "text/html": [
       "<div>\n",
       "<style scoped>\n",
       "    .dataframe tbody tr th:only-of-type {\n",
       "        vertical-align: middle;\n",
       "    }\n",
       "\n",
       "    .dataframe tbody tr th {\n",
       "        vertical-align: top;\n",
       "    }\n",
       "\n",
       "    .dataframe thead th {\n",
       "        text-align: right;\n",
       "    }\n",
       "</style>\n",
       "<table border=\"1\" class=\"dataframe\">\n",
       "  <thead>\n",
       "    <tr style=\"text-align: right;\">\n",
       "      <th></th>\n",
       "      <th>name</th>\n",
       "      <th>model</th>\n",
       "      <th>mae</th>\n",
       "      <th>mse</th>\n",
       "      <th>r2</th>\n",
       "    </tr>\n",
       "  </thead>\n",
       "  <tbody>\n",
       "    <tr>\n",
       "      <th>1</th>\n",
       "      <td>GradientBoostingRegressor()</td>\n",
       "      <td>([DecisionTreeRegressor(criterion='friedman_ms...</td>\n",
       "      <td>2.912283</td>\n",
       "      <td>22.724244</td>\n",
       "      <td>0.828537</td>\n",
       "    </tr>\n",
       "    <tr>\n",
       "      <th>0</th>\n",
       "      <td>LinearRegression()</td>\n",
       "      <td>LinearRegression()</td>\n",
       "      <td>4.251348</td>\n",
       "      <td>50.235573</td>\n",
       "      <td>0.620955</td>\n",
       "    </tr>\n",
       "  </tbody>\n",
       "</table>\n",
       "</div>"
      ],
      "text/plain": [
       "                          name  \\\n",
       "1  GradientBoostingRegressor()   \n",
       "0           LinearRegression()   \n",
       "\n",
       "                                               model       mae        mse  \\\n",
       "1  ([DecisionTreeRegressor(criterion='friedman_ms...  2.912283  22.724244   \n",
       "0                                 LinearRegression()  4.251348  50.235573   \n",
       "\n",
       "         r2  \n",
       "1  0.828537  \n",
       "0  0.620955  "
      ]
     },
     "execution_count": 46,
     "metadata": {},
     "output_type": "execute_result"
    }
   ],
   "source": [
    "datos_modelos2 = list()\n",
    "\n",
    "for model in modelos2:\n",
    "    \n",
    "    model.fit(X_train, y_train)\n",
    "    yhat = model.predict(X_test)\n",
    "    \n",
    "    y_test_inv = y_scaler.inverse_transform(y_test.reshape(-1, 1))\n",
    "    yhat_inv = y_scaler.inverse_transform(yhat.reshape(-1, 1))\n",
    "    \n",
    "    # Metricas\n",
    "    mae = mean_absolute_error(y_test_inv, yhat_inv)\n",
    "    mse = mean_squared_error(y_test_inv, yhat_inv)\n",
    "    r2 = r2_score(y_test_inv, yhat_inv)\n",
    "    \n",
    "    datos_modelos2.append([str(model), model, mae, mse, r2])\n",
    "    \n",
    "df_modelo2 = pd.DataFrame(data = datos_modelos2, columns = [\"name\", \"model\", \"mae\", \"mse\", \"r2\"])\n",
    "\n",
    "df_modelo2.sort_values(\"r2\", ascending = False)"
   ]
  },
  {
   "cell_type": "code",
   "execution_count": 47,
   "id": "ac0a1bf9",
   "metadata": {},
   "outputs": [],
   "source": [
    "df_modelos = pd.concat([df_modelo1, df_modelo2], axis=0)"
   ]
  },
  {
   "cell_type": "code",
   "execution_count": 48,
   "id": "60b2cf3b",
   "metadata": {},
   "outputs": [
    {
     "data": {
      "text/html": [
       "<div>\n",
       "<style scoped>\n",
       "    .dataframe tbody tr th:only-of-type {\n",
       "        vertical-align: middle;\n",
       "    }\n",
       "\n",
       "    .dataframe tbody tr th {\n",
       "        vertical-align: top;\n",
       "    }\n",
       "\n",
       "    .dataframe thead th {\n",
       "        text-align: right;\n",
       "    }\n",
       "</style>\n",
       "<table border=\"1\" class=\"dataframe\">\n",
       "  <thead>\n",
       "    <tr style=\"text-align: right;\">\n",
       "      <th></th>\n",
       "      <th>name</th>\n",
       "      <th>model</th>\n",
       "      <th>mae</th>\n",
       "      <th>mse</th>\n",
       "      <th>r2</th>\n",
       "    </tr>\n",
       "  </thead>\n",
       "  <tbody>\n",
       "    <tr>\n",
       "      <th>2</th>\n",
       "      <td>RandomForestRegressor()</td>\n",
       "      <td>(DecisionTreeRegressor(max_features=1.0, rando...</td>\n",
       "      <td>0.726064</td>\n",
       "      <td>6.570953</td>\n",
       "      <td>0.950420</td>\n",
       "    </tr>\n",
       "    <tr>\n",
       "      <th>1</th>\n",
       "      <td>DecisionTreeRegressor()</td>\n",
       "      <td>DecisionTreeRegressor()</td>\n",
       "      <td>0.721291</td>\n",
       "      <td>15.487249</td>\n",
       "      <td>0.883143</td>\n",
       "    </tr>\n",
       "    <tr>\n",
       "      <th>0</th>\n",
       "      <td>KNeighborsRegressor()</td>\n",
       "      <td>KNeighborsRegressor()</td>\n",
       "      <td>2.147932</td>\n",
       "      <td>20.989965</td>\n",
       "      <td>0.841623</td>\n",
       "    </tr>\n",
       "    <tr>\n",
       "      <th>3</th>\n",
       "      <td>GradientBoostingRegressor()</td>\n",
       "      <td>([DecisionTreeRegressor(criterion='friedman_ms...</td>\n",
       "      <td>2.912021</td>\n",
       "      <td>22.674793</td>\n",
       "      <td>0.828911</td>\n",
       "    </tr>\n",
       "    <tr>\n",
       "      <th>1</th>\n",
       "      <td>GradientBoostingRegressor()</td>\n",
       "      <td>([DecisionTreeRegressor(criterion='friedman_ms...</td>\n",
       "      <td>2.912283</td>\n",
       "      <td>22.724244</td>\n",
       "      <td>0.828537</td>\n",
       "    </tr>\n",
       "    <tr>\n",
       "      <th>0</th>\n",
       "      <td>LinearRegression()</td>\n",
       "      <td>LinearRegression()</td>\n",
       "      <td>4.251348</td>\n",
       "      <td>50.235573</td>\n",
       "      <td>0.620955</td>\n",
       "    </tr>\n",
       "  </tbody>\n",
       "</table>\n",
       "</div>"
      ],
      "text/plain": [
       "                          name  \\\n",
       "2      RandomForestRegressor()   \n",
       "1      DecisionTreeRegressor()   \n",
       "0        KNeighborsRegressor()   \n",
       "3  GradientBoostingRegressor()   \n",
       "1  GradientBoostingRegressor()   \n",
       "0           LinearRegression()   \n",
       "\n",
       "                                               model       mae        mse  \\\n",
       "2  (DecisionTreeRegressor(max_features=1.0, rando...  0.726064   6.570953   \n",
       "1                            DecisionTreeRegressor()  0.721291  15.487249   \n",
       "0                              KNeighborsRegressor()  2.147932  20.989965   \n",
       "3  ([DecisionTreeRegressor(criterion='friedman_ms...  2.912021  22.674793   \n",
       "1  ([DecisionTreeRegressor(criterion='friedman_ms...  2.912283  22.724244   \n",
       "0                                 LinearRegression()  4.251348  50.235573   \n",
       "\n",
       "         r2  \n",
       "2  0.950420  \n",
       "1  0.883143  \n",
       "0  0.841623  \n",
       "3  0.828911  \n",
       "1  0.828537  \n",
       "0  0.620955  "
      ]
     },
     "execution_count": 48,
     "metadata": {},
     "output_type": "execute_result"
    }
   ],
   "source": [
    "df_modelos.sort_values(\"r2\", ascending = False)"
   ]
  },
  {
   "cell_type": "code",
   "execution_count": 49,
   "id": "3ff1ab3a",
   "metadata": {},
   "outputs": [],
   "source": [
    "X = train.drop(\"Precio\", axis = 1)\n",
    "y = np.array(train[\"Precio\"]).reshape(-1 , 1)"
   ]
  },
  {
   "cell_type": "code",
   "execution_count": 50,
   "id": "8304cd8e",
   "metadata": {},
   "outputs": [
    {
     "data": {
      "image/png": "[encoded data removed]",
      "text/plain": [
       "<Figure size 1600x800 with 1 Axes>"
      ]
     },
     "metadata": {},
     "output_type": "display_data"
    }
   ],
   "source": [
    "# El feature importance, nos permite ver la verdadera importancia de cada una de las columnas a la hora de predecir.\n",
    "feature_importance = model.feature_importances_\n",
    "\n",
    "# Inicializa un DataFrame con los nombres de las características y sus valores en el orden de importancia.\n",
    "importance_df = pd.DataFrame({\"Feature\": X.columns, \"Importance\": feature_importance}).sort_values(by=\"Importance\", ascending=False)\n",
    "\n",
    "# Definir el tamaño y la disposición de las cifras\n",
    "plt.figure(figsize=(16,8))\n",
    "plt.tight_layout(pad=2.0)\n",
    "\n",
    "# Traza las importancias de los elementos\n",
    "sns.barplot(data=importance_df, x=\"Importance\", y=\"Feature\", orient=\"h\", palette=\"blend:#7AB,#EDA\")\n",
    "\n",
    "# Añadimos etiquetas y título\n",
    "plt.xlabel(\"Importance\")\n",
    "plt.ylabel(\"Feature\")\n",
    "plt.title(\"Feature Importance for Random Forest Regressor\")\n",
    "\n",
    "# Muestra el grafica\n",
    "plt.show()"
   ]
  },
  {
   "cell_type": "markdown",
   "id": "ef8655e0",
   "metadata": {},
   "source": [
    "#### Una vez conseguido el modelo de regresión, puede ser que si cambiamos los parametros, consigamos una mejor métrica. para ello vamos a utilizar la funcion GridSearch así podremos afinar un poco en el modelo.\n",
    "#### despues guardaremos el modelo para poder aplicarselo a nuevos DataFrames que tengas los parámetros iguales."
   ]
  },
  {
   "cell_type": "code",
   "execution_count": 51,
   "id": "6f405f2c",
   "metadata": {},
   "outputs": [],
   "source": [
    "def grid_search_best_model(train_data, target_column):\n",
    "    \n",
    "    # Separar las características (X) y el objetivo (y)\n",
    "    X = train.drop(target_column, axis=1)\n",
    "    y = train[target_column]\n",
    "\n",
    "    # Definir los parámetros para GridSearch\n",
    "    param_grid = {\n",
    "        'n_estimators': [100, 200, 300],\n",
    "        'max_depth': [None, 10, 20],\n",
    "        'min_samples_split': [2, 5, 10],\n",
    "        'min_samples_leaf': [1, 2, 4],\n",
    "        'bootstrap': [True, False]\n",
    "    }\n",
    "\n",
    "    # Crear el modelo RandomForestRegressor\n",
    "    model = RandomForestRegressor(random_state=42)\n",
    "\n",
    "    # Realizar GridSearchCV\n",
    "    grid_search = GridSearchCV(estimator=model, param_grid=param_grid, scoring='r2', cv=5, n_jobs=-1)\n",
    "    grid_search.fit(X, y)\n",
    "\n",
    "    # Obtener el mejor modelo y los mejores parámetros\n",
    "    best_model = grid_search.best_estimator_\n",
    "    best_params = grid_search.best_params_\n",
    "\n",
    "    # Guardar el mejor modelo en un archivo .pkl\n",
    "    nombre_archivo = \"mejor_modelo.pkl\"\n",
    "    with open(nombre_archivo, 'wb') as archivo:\n",
    "        pickle.dump(best_model, archivo)\n",
    "\n",
    "    print(f\"Mejor modelo guardado en '{nombre_archivo}' exitosamente.\")\n",
    "\n",
    "    return best_model, best_params\n"
   ]
  },
  {
   "cell_type": "code",
   "execution_count": 52,
   "id": "04b455ce",
   "metadata": {},
   "outputs": [
    {
     "name": "stdout",
     "output_type": "stream",
     "text": [
      "Mejor modelo guardado en 'mejor_modelo.pkl' exitosamente.\n",
      "Mejor modelo: RandomForestRegressor(n_estimators=300, random_state=42)\n",
      "Mejores parámetros: {'bootstrap': True, 'max_depth': None, 'min_samples_leaf': 1, 'min_samples_split': 2, 'n_estimators': 300}\n"
     ]
    }
   ],
   "source": [
    "train = pd.read_csv(\"train.csv\")  # Supongamos que tienes un archivo CSV llamado train_data.csv\n",
    "target_column = \"Precio\"  # Supongamos que \"Precio\" es la columna objetivo\n",
    "\n",
    "best_model, best_params = grid_search_best_model(train, target_column)\n",
    "print(\"Mejor modelo:\", best_model)\n",
    "print(\"Mejores parámetros:\", best_params)\n"
   ]
  },
  {
   "cell_type": "code",
   "execution_count": 53,
   "id": "616b6e2e",
   "metadata": {},
   "outputs": [
    {
     "name": "stdout",
     "output_type": "stream",
     "text": [
      "Métrica R2 en la columna 'precio' en datos de prueba: 0.9923871541804237\n"
     ]
    }
   ],
   "source": [
    "# Carga del modelo y aplicación del mismo para conseguir la metrica r2_score de predicción.\n",
    "nombre_archivo = \"mejor_modelo.pkl\"\n",
    "with open(nombre_archivo, 'rb') as archivo:\n",
    "    best_model = pickle.load(archivo)\n",
    "\n",
    "X_train = X\n",
    "y_train = y\n",
    "\n",
    "# Hacer predicciones usando el modelo cargado\n",
    "y_pred = best_model.predict(X_train)\n",
    "\n",
    "# Calcular la métrica R2 en la columna \"precio\"\n",
    "r2 = r2_score(y_train, y_pred)\n",
    "print(f\"Métrica R2 en la columna 'precio' en datos de prueba: {r2}\")"
   ]
  },
  {
   "cell_type": "code",
   "execution_count": 54,
   "id": "7206f095",
   "metadata": {},
   "outputs": [],
   "source": [
    "test = pd.read_csv(\"test.csv\")"
   ]
  },
  {
   "cell_type": "code",
   "execution_count": 55,
   "id": "fee83896",
   "metadata": {},
   "outputs": [],
   "source": [
    "X1 = test.drop([\"Precio\"], axis = 1)\n",
    "y1 = np.array(test[\"Precio\"]).reshape(-1 , 1)\n",
    "\n",
    "x_scaler1 = MinMaxScaler()\n",
    "X = x_scaler1.fit_transform(X)\n",
    "\n",
    "y_scaler1 = MinMaxScaler()\n",
    "y = y_scaler1.fit_transform(y)"
   ]
  },
  {
   "cell_type": "code",
   "execution_count": 56,
   "id": "14c8f8a5",
   "metadata": {},
   "outputs": [
    {
     "name": "stdout",
     "output_type": "stream",
     "text": [
      "Métrica R2 en la columna 'precio' en datos de prueba: 0.9348268641080111\n"
     ]
    }
   ],
   "source": [
    "# Validación del método en el DataFrame test.\n",
    "nombre_archivo = \"mejor_modelo.pkl\"\n",
    "with open(nombre_archivo, 'rb') as archivo:\n",
    "    best_model = pickle.load(archivo)\n",
    "\n",
    "X_test = X1\n",
    "y_test = y1\n",
    "\n",
    "# Hacer predicciones usando el modelo cargado\n",
    "y_pred = best_model.predict(X_test)\n",
    "\n",
    "# Calcular la métrica R2 en la columna \"precio\"\n",
    "r2 = r2_score(y_test, y_pred)\n",
    "print(f\"Métrica R2 en la columna 'precio' en datos de prueba: {r2}\")"
   ]
  },
  {
   "cell_type": "code",
   "execution_count": null,
   "id": "679da4de",
   "metadata": {},
   "outputs": [],
   "source": []
  }
 ],
 "metadata": {
  "kernelspec": {
   "display_name": "Python 3 (ipykernel)",
   "language": "python",
   "name": "python3"
  },
  "language_info": {
   "codemirror_mode": {
    "name": "ipython",
    "version": 3
   },
   "file_extension": ".py",
   "mimetype": "text/x-python",
   "name": "python",
   "nbconvert_exporter": "python",
   "pygments_lexer": "ipython3",
   "version": "3.10.9"
  }
 },
 "nbformat": 4,
 "nbformat_minor": 5
}
